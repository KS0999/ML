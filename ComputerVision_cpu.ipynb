{
  "cells": [
    {
      "cell_type": "markdown",
      "metadata": {
        "id": "view-in-github",
        "colab_type": "text"
      },
      "source": [
        "<a href=\"https://colab.research.google.com/github/KS0999/ML/blob/main/ComputerVision_cpu.ipynb\" target=\"_parent\"><img src=\"https://colab.research.google.com/assets/colab-badge.svg\" alt=\"Open In Colab\"/></a>"
      ]
    },
    {
      "cell_type": "code",
      "execution_count": 71,
      "metadata": {
        "id": "J_lAIicPp2Mg"
      },
      "outputs": [],
      "source": [
        "import torch\n",
        "from torch import nn\n",
        "from matplotlib import pyplot as plt\n",
        "import torchvision\n",
        "from torchvision import datasets\n",
        "from torchvision import transforms\n",
        "from torchvision.transforms import ToTensor\n",
        "import pathlib as path\n",
        "import os\n",
        "import requests"
      ]
    },
    {
      "cell_type": "code",
      "execution_count": 72,
      "metadata": {
        "id": "Txd2VGb7DMLS"
      },
      "outputs": [],
      "source": [
        "train_data = torchvision.datasets.FashionMNIST(root=\"data\",\n",
        "                                               train=True, # want train or no?\n",
        "                                               download=True, # download or not?\n",
        "                                               transform=torchvision.transforms.ToTensor(), # transform the data ? (X)\n",
        "                                               target_transform=None) # tranform the target/label ? (y)\n",
        "test_data = torchvision.datasets.FashionMNIST(root=\"data\",\n",
        "                                               train=False,\n",
        "                                               download=True,\n",
        "                                               transform=torchvision.transforms.ToTensor(),\n",
        "                                               target_transform=None)"
      ]
    },
    {
      "cell_type": "code",
      "execution_count": 73,
      "metadata": {
        "id": "pyXe3FSeDMN-",
        "colab": {
          "base_uri": "https://localhost:8080/"
        },
        "outputId": "5d1e2a19-780c-4aa5-bf7d-7078c775ba4c"
      },
      "outputs": [
        {
          "output_type": "execute_result",
          "data": {
            "text/plain": [
              "(60000, 10000)"
            ]
          },
          "metadata": {},
          "execution_count": 73
        }
      ],
      "source": [
        "len(train_data),len(test_data)"
      ]
    },
    {
      "cell_type": "code",
      "execution_count": 74,
      "metadata": {
        "id": "kNXapdSFDMQr",
        "colab": {
          "base_uri": "https://localhost:8080/"
        },
        "outputId": "7d95efdb-09d3-4d1a-df6d-e67220634280"
      },
      "outputs": [
        {
          "output_type": "execute_result",
          "data": {
            "text/plain": [
              "['T-shirt/top',\n",
              " 'Trouser',\n",
              " 'Pullover',\n",
              " 'Dress',\n",
              " 'Coat',\n",
              " 'Sandal',\n",
              " 'Shirt',\n",
              " 'Sneaker',\n",
              " 'Bag',\n",
              " 'Ankle boot']"
            ]
          },
          "metadata": {},
          "execution_count": 74
        }
      ],
      "source": [
        "train_class = train_data.classes # check the item name\n",
        "train_class"
      ]
    },
    {
      "cell_type": "code",
      "execution_count": 75,
      "metadata": {
        "id": "Ho209ioMDMTR",
        "colab": {
          "base_uri": "https://localhost:8080/"
        },
        "outputId": "5e506489-9298-426f-bee7-dacd5ef100d2"
      },
      "outputs": [
        {
          "output_type": "execute_result",
          "data": {
            "text/plain": [
              "{'T-shirt/top': 0,\n",
              " 'Trouser': 1,\n",
              " 'Pullover': 2,\n",
              " 'Dress': 3,\n",
              " 'Coat': 4,\n",
              " 'Sandal': 5,\n",
              " 'Shirt': 6,\n",
              " 'Sneaker': 7,\n",
              " 'Bag': 8,\n",
              " 'Ankle boot': 9}"
            ]
          },
          "metadata": {},
          "execution_count": 75
        }
      ],
      "source": [
        "train_class_to_idx = train_data.class_to_idx # use the dict format to see the number of item\n",
        "train_class_to_idx"
      ]
    },
    {
      "cell_type": "code",
      "execution_count": 76,
      "metadata": {
        "id": "TrJv8JyBDMV4",
        "colab": {
          "base_uri": "https://localhost:8080/"
        },
        "outputId": "6f549896-f1bc-476c-dfda-ec7684205e88"
      },
      "outputs": [
        {
          "output_type": "execute_result",
          "data": {
            "text/plain": [
              "(tensor([[[0.0000, 0.0000, 0.0000, 0.0000, 0.0000, 0.0000, 0.0000, 0.0431,\n",
              "           0.5569, 0.7843, 0.4157, 0.0000, 0.0000, 0.0000, 0.0000, 0.0000,\n",
              "           0.0000, 0.0000, 0.3333, 0.7255, 0.4392, 0.0000, 0.0000, 0.0000,\n",
              "           0.0000, 0.0000, 0.0000, 0.0000],\n",
              "          [0.0000, 0.0000, 0.0000, 0.0000, 0.0000, 0.0000, 0.5961, 0.8392,\n",
              "           0.8510, 0.7608, 0.9255, 0.8471, 0.7333, 0.5843, 0.5294, 0.6000,\n",
              "           0.8275, 0.8510, 0.9059, 0.8039, 0.8510, 0.7373, 0.1333, 0.0000,\n",
              "           0.0000, 0.0000, 0.0000, 0.0000],\n",
              "          [0.0000, 0.0000, 0.0000, 0.0000, 0.0000, 0.2588, 0.7255, 0.6510,\n",
              "           0.7059, 0.7098, 0.7451, 0.8275, 0.8667, 0.7725, 0.5725, 0.7765,\n",
              "           0.8078, 0.7490, 0.6588, 0.7451, 0.6745, 0.7373, 0.6863, 0.0000,\n",
              "           0.0000, 0.0000, 0.0000, 0.0000],\n",
              "          [0.0000, 0.0000, 0.0000, 0.0000, 0.0000, 0.5294, 0.6000, 0.6275,\n",
              "           0.6863, 0.7059, 0.6667, 0.7294, 0.7333, 0.7451, 0.7373, 0.7451,\n",
              "           0.7333, 0.6824, 0.7647, 0.7255, 0.6824, 0.6314, 0.6863, 0.2314,\n",
              "           0.0000, 0.0000, 0.0000, 0.0000],\n",
              "          [0.0000, 0.0000, 0.0000, 0.0000, 0.0000, 0.6314, 0.5765, 0.6275,\n",
              "           0.6667, 0.6980, 0.6941, 0.7059, 0.6588, 0.6784, 0.6824, 0.6706,\n",
              "           0.7255, 0.7216, 0.7255, 0.6745, 0.6706, 0.6431, 0.6824, 0.4706,\n",
              "           0.0000, 0.0000, 0.0000, 0.0000],\n",
              "          [0.0000, 0.0000, 0.0000, 0.0000, 0.0078, 0.6863, 0.5725, 0.5686,\n",
              "           0.6588, 0.6980, 0.7098, 0.7255, 0.7059, 0.7216, 0.6980, 0.7020,\n",
              "           0.7333, 0.7490, 0.7569, 0.7451, 0.7098, 0.6706, 0.6745, 0.6196,\n",
              "           0.0000, 0.0000, 0.0000, 0.0000],\n",
              "          [0.0000, 0.0000, 0.0000, 0.0000, 0.1373, 0.6941, 0.6078, 0.5490,\n",
              "           0.5922, 0.6745, 0.7490, 0.7333, 0.7294, 0.7333, 0.7294, 0.7333,\n",
              "           0.7137, 0.7490, 0.7608, 0.7373, 0.7059, 0.6314, 0.6314, 0.7255,\n",
              "           0.0000, 0.0000, 0.0000, 0.0000],\n",
              "          [0.0000, 0.0000, 0.0000, 0.0000, 0.2314, 0.6667, 0.6000, 0.5529,\n",
              "           0.4706, 0.6039, 0.6275, 0.6314, 0.6745, 0.6588, 0.6510, 0.6314,\n",
              "           0.6471, 0.6745, 0.6667, 0.6431, 0.5451, 0.5843, 0.6353, 0.6510,\n",
              "           0.0824, 0.0000, 0.0000, 0.0000],\n",
              "          [0.0000, 0.0000, 0.0000, 0.0000, 0.3098, 0.5686, 0.6275, 0.8392,\n",
              "           0.4824, 0.5020, 0.6000, 0.6275, 0.6431, 0.6196, 0.6157, 0.6039,\n",
              "           0.6078, 0.6667, 0.6471, 0.5529, 0.7647, 0.7569, 0.5961, 0.6510,\n",
              "           0.2392, 0.0000, 0.0000, 0.0000],\n",
              "          [0.0000, 0.0000, 0.0000, 0.0000, 0.3922, 0.6157, 0.8824, 0.9608,\n",
              "           0.6863, 0.4431, 0.6824, 0.6196, 0.6196, 0.6275, 0.6078, 0.6275,\n",
              "           0.6431, 0.6980, 0.7373, 0.5294, 0.7255, 0.9412, 0.7882, 0.6745,\n",
              "           0.4235, 0.0000, 0.0000, 0.0000],\n",
              "          [0.0000, 0.0000, 0.0000, 0.0000, 0.0000, 0.1216, 0.6824, 0.1098,\n",
              "           0.4941, 0.6000, 0.6510, 0.5961, 0.6196, 0.6196, 0.6275, 0.6314,\n",
              "           0.6157, 0.6588, 0.7490, 0.7373, 0.0706, 0.5176, 0.6235, 0.0275,\n",
              "           0.0000, 0.0000, 0.0000, 0.0000],\n",
              "          [0.0000, 0.0000, 0.0000, 0.0000, 0.0000, 0.0000, 0.0000, 0.0000,\n",
              "           0.3216, 0.7333, 0.6235, 0.6000, 0.6157, 0.6196, 0.6353, 0.6431,\n",
              "           0.6431, 0.6039, 0.7333, 0.7451, 0.0000, 0.0000, 0.0000, 0.0000,\n",
              "           0.0000, 0.0000, 0.0000, 0.0000],\n",
              "          [0.0000, 0.0000, 0.0000, 0.0000, 0.0039, 0.0118, 0.0196, 0.0000,\n",
              "           0.1451, 0.6863, 0.6196, 0.6078, 0.6353, 0.6196, 0.6275, 0.6353,\n",
              "           0.6471, 0.6000, 0.6941, 0.8039, 0.0000, 0.0000, 0.0118, 0.0118,\n",
              "           0.0000, 0.0000, 0.0000, 0.0000],\n",
              "          [0.0000, 0.0000, 0.0000, 0.0000, 0.0000, 0.0000, 0.0039, 0.0000,\n",
              "           0.0980, 0.6863, 0.5961, 0.6275, 0.6196, 0.6314, 0.6275, 0.6431,\n",
              "           0.6431, 0.6314, 0.6510, 0.7843, 0.0000, 0.0000, 0.0039, 0.0000,\n",
              "           0.0000, 0.0000, 0.0000, 0.0000],\n",
              "          [0.0000, 0.0000, 0.0000, 0.0000, 0.0000, 0.0000, 0.0157, 0.0000,\n",
              "           0.1176, 0.6706, 0.5765, 0.6431, 0.6078, 0.6471, 0.6314, 0.6471,\n",
              "           0.6353, 0.6667, 0.6431, 0.6353, 0.0000, 0.0000, 0.0078, 0.0000,\n",
              "           0.0000, 0.0000, 0.0000, 0.0000],\n",
              "          [0.0000, 0.0000, 0.0000, 0.0000, 0.0000, 0.0000, 0.0157, 0.0000,\n",
              "           0.2235, 0.6510, 0.6078, 0.6431, 0.6510, 0.6314, 0.6314, 0.6431,\n",
              "           0.6549, 0.6471, 0.6471, 0.6353, 0.1098, 0.0000, 0.0118, 0.0000,\n",
              "           0.0000, 0.0000, 0.0000, 0.0000],\n",
              "          [0.0000, 0.0000, 0.0000, 0.0000, 0.0000, 0.0000, 0.0118, 0.0000,\n",
              "           0.4471, 0.6314, 0.6314, 0.6510, 0.6235, 0.6588, 0.6314, 0.6314,\n",
              "           0.6745, 0.6353, 0.6471, 0.6706, 0.1961, 0.0000, 0.0196, 0.0000,\n",
              "           0.0000, 0.0000, 0.0000, 0.0000],\n",
              "          [0.0000, 0.0000, 0.0000, 0.0000, 0.0000, 0.0000, 0.0039, 0.0000,\n",
              "           0.5843, 0.6157, 0.6549, 0.6745, 0.6235, 0.6745, 0.6431, 0.6314,\n",
              "           0.6745, 0.6667, 0.6275, 0.6706, 0.3490, 0.0000, 0.0157, 0.0000,\n",
              "           0.0000, 0.0000, 0.0000, 0.0000],\n",
              "          [0.0000, 0.0000, 0.0000, 0.0000, 0.0000, 0.0078, 0.0000, 0.0157,\n",
              "           0.6706, 0.6431, 0.6510, 0.6784, 0.6235, 0.7020, 0.6510, 0.6275,\n",
              "           0.6824, 0.6549, 0.6353, 0.6510, 0.5020, 0.0000, 0.0078, 0.0000,\n",
              "           0.0000, 0.0000, 0.0000, 0.0000],\n",
              "          [0.0000, 0.0000, 0.0000, 0.0000, 0.0000, 0.0118, 0.0000, 0.0706,\n",
              "           0.5961, 0.6784, 0.6275, 0.7020, 0.6039, 0.7098, 0.6510, 0.6431,\n",
              "           0.6863, 0.6667, 0.6510, 0.6667, 0.6431, 0.0000, 0.0000, 0.0039,\n",
              "           0.0000, 0.0000, 0.0000, 0.0000],\n",
              "          [0.0000, 0.0000, 0.0000, 0.0000, 0.0000, 0.0157, 0.0000, 0.1843,\n",
              "           0.6471, 0.6745, 0.6549, 0.7255, 0.6000, 0.7333, 0.6784, 0.6471,\n",
              "           0.6824, 0.7020, 0.6510, 0.6510, 0.6196, 0.0196, 0.0000, 0.0118,\n",
              "           0.0000, 0.0000, 0.0000, 0.0000],\n",
              "          [0.0000, 0.0000, 0.0000, 0.0000, 0.0000, 0.0157, 0.0000, 0.3412,\n",
              "           0.7059, 0.6353, 0.7020, 0.7020, 0.6157, 0.7490, 0.7137, 0.6471,\n",
              "           0.6588, 0.7451, 0.6784, 0.6471, 0.6510, 0.0784, 0.0000, 0.0157,\n",
              "           0.0000, 0.0000, 0.0000, 0.0000],\n",
              "          [0.0000, 0.0000, 0.0000, 0.0000, 0.0000, 0.0157, 0.0000, 0.4118,\n",
              "           0.7333, 0.6157, 0.7608, 0.6863, 0.6314, 0.7451, 0.7216, 0.6667,\n",
              "           0.6196, 0.8039, 0.6941, 0.6588, 0.6706, 0.1725, 0.0000, 0.0157,\n",
              "           0.0000, 0.0000, 0.0000, 0.0000],\n",
              "          [0.0000, 0.0000, 0.0000, 0.0000, 0.0000, 0.0196, 0.0000, 0.5412,\n",
              "           0.7098, 0.6196, 0.8039, 0.6275, 0.6549, 0.7451, 0.7765, 0.6549,\n",
              "           0.5961, 0.8549, 0.7294, 0.6667, 0.6745, 0.2235, 0.0000, 0.0196,\n",
              "           0.0000, 0.0000, 0.0000, 0.0000],\n",
              "          [0.0000, 0.0000, 0.0000, 0.0000, 0.0000, 0.0196, 0.0000, 0.5294,\n",
              "           0.6824, 0.6549, 0.7804, 0.6078, 0.6510, 0.7882, 0.8588, 0.6471,\n",
              "           0.6196, 0.8549, 0.7373, 0.6549, 0.6863, 0.2196, 0.0000, 0.0275,\n",
              "           0.0000, 0.0000, 0.0000, 0.0000],\n",
              "          [0.0000, 0.0000, 0.0000, 0.0000, 0.0000, 0.0196, 0.0000, 0.5059,\n",
              "           0.6706, 0.6745, 0.6941, 0.6000, 0.6235, 0.8078, 0.8471, 0.5804,\n",
              "           0.6157, 0.8078, 0.7451, 0.6471, 0.6863, 0.1882, 0.0000, 0.0196,\n",
              "           0.0000, 0.0000, 0.0000, 0.0000],\n",
              "          [0.0000, 0.0000, 0.0000, 0.0000, 0.0000, 0.0196, 0.0000, 0.6549,\n",
              "           0.7333, 0.7137, 0.7765, 0.7608, 0.7843, 0.8863, 0.9412, 0.7216,\n",
              "           0.8078, 1.0000, 0.7725, 0.6980, 0.7020, 0.1647, 0.0000, 0.0196,\n",
              "           0.0000, 0.0000, 0.0000, 0.0000],\n",
              "          [0.0000, 0.0000, 0.0000, 0.0000, 0.0000, 0.0118, 0.0000, 0.4510,\n",
              "           0.5294, 0.4431, 0.4157, 0.3333, 0.3216, 0.4235, 0.5216, 0.3255,\n",
              "           0.3529, 0.4745, 0.4706, 0.4314, 0.6196, 0.0706, 0.0000, 0.0118,\n",
              "           0.0000, 0.0000, 0.0000, 0.0000]]]),\n",
              " 0)"
            ]
          },
          "metadata": {},
          "execution_count": 76
        }
      ],
      "source": [
        "image,label = train_data[10] # some information about train data\n",
        "image,label"
      ]
    },
    {
      "cell_type": "code",
      "execution_count": 77,
      "metadata": {
        "id": "34fcTVaIDMYM",
        "colab": {
          "base_uri": "https://localhost:8080/"
        },
        "outputId": "b15df02c-2d96-4355-e199-83dc98c6fdee"
      },
      "outputs": [
        {
          "output_type": "execute_result",
          "data": {
            "text/plain": [
              "[('train-images-idx3-ubyte.gz', '8d4fb7e6c68d591d4c3dfef9ec88bf0d'),\n",
              " ('train-labels-idx1-ubyte.gz', '25c81989df183df01b3e8a0aad5dffbe'),\n",
              " ('t10k-images-idx3-ubyte.gz', 'bef4ecab320f06d8554ea6380940ec79'),\n",
              " ('t10k-labels-idx1-ubyte.gz', 'bb300cfdad3c16e7a12a480ee83cd310')]"
            ]
          },
          "metadata": {},
          "execution_count": 77
        }
      ],
      "source": [
        "train_data.resources # u can see same thing on the root"
      ]
    },
    {
      "cell_type": "code",
      "execution_count": 78,
      "metadata": {
        "id": "jkk55qJbDMwn",
        "colab": {
          "base_uri": "https://localhost:8080/"
        },
        "outputId": "633ff1c5-0580-4480-c630-2bd79f8460a4"
      },
      "outputs": [
        {
          "output_type": "execute_result",
          "data": {
            "text/plain": [
              "['http://fashion-mnist.s3-website.eu-central-1.amazonaws.com/']"
            ]
          },
          "metadata": {},
          "execution_count": 78
        }
      ],
      "source": [
        "train_data.mirrors # train source url"
      ]
    },
    {
      "cell_type": "code",
      "execution_count": 79,
      "metadata": {
        "id": "E5BFajPiDMy2",
        "colab": {
          "base_uri": "https://localhost:8080/"
        },
        "outputId": "e2db60c5-bf17-4434-de16-b39b1173e711"
      },
      "outputs": [
        {
          "output_type": "execute_result",
          "data": {
            "text/plain": [
              "tensor([9, 0, 0,  ..., 3, 0, 5])"
            ]
          },
          "metadata": {},
          "execution_count": 79
        }
      ],
      "source": [
        "train_data.targets # corresponsing to \"Ankle boot\" which is the item of dict"
      ]
    },
    {
      "cell_type": "code",
      "execution_count": 80,
      "metadata": {
        "id": "NPa_oNsyDM4I",
        "colab": {
          "base_uri": "https://localhost:8080/"
        },
        "outputId": "9ba46c4e-34b8-43e9-8d47-3c32c7c3707d"
      },
      "outputs": [
        {
          "output_type": "execute_result",
          "data": {
            "text/plain": [
              "StandardTransform\n",
              "Transform: ToTensor()"
            ]
          },
          "metadata": {},
          "execution_count": 80
        }
      ],
      "source": [
        "train_data.transforms # some information about \"Transforms\", u can initializtion setting before create the train data"
      ]
    },
    {
      "cell_type": "code",
      "execution_count": 81,
      "metadata": {
        "id": "T-HmG92JDM5M",
        "colab": {
          "base_uri": "https://localhost:8080/"
        },
        "outputId": "7aa7b2d0-9455-449c-bacd-dda5257b8605"
      },
      "outputs": [
        {
          "output_type": "stream",
          "name": "stdout",
          "text": [
            "image's shape torch.Size([1, 28, 28])\n",
            "label : T-shirt/top\n"
          ]
        }
      ],
      "source": [
        "print(f\"image's shape {image.shape}\") # [color channel, height, width]\n",
        "print(f\"label : {train_class[label]}\")"
      ]
    },
    {
      "cell_type": "code",
      "execution_count": 82,
      "metadata": {
        "id": "xz8Wuy_Jo5IK",
        "colab": {
          "base_uri": "https://localhost:8080/",
          "height": 479
        },
        "outputId": "a226083f-fe32-447a-d328-c9a58d7ad09d"
      },
      "outputs": [
        {
          "output_type": "stream",
          "name": "stdout",
          "text": [
            "image's shapetorch.Size([1, 28, 28])\n"
          ]
        },
        {
          "output_type": "execute_result",
          "data": {
            "text/plain": [
              "(-0.5, 27.5, 27.5, -0.5)"
            ]
          },
          "metadata": {},
          "execution_count": 82
        },
        {
          "output_type": "display_data",
          "data": {
            "text/plain": [
              "<Figure size 500x500 with 1 Axes>"
            ],
            "image/png": "[encoded data removed]"
          },
          "metadata": {}
        }
      ],
      "source": [
        "# use matplotlib to show the image\n",
        "print(f\"image's shape{image.shape}\")\n",
        "plt.figure(figsize=(5,5))\n",
        "plt.imshow(image.squeeze(),cmap=\"gray\") # u have to remove the color channel or u will get an error (shape's error)\n",
        "plt.title(train_class[label])\n",
        "plt.axis(False)"
      ]
    },
    {
      "cell_type": "code",
      "execution_count": 83,
      "metadata": {
        "id": "1CYSmRK-o5k3",
        "colab": {
          "base_uri": "https://localhost:8080/",
          "height": 559
        },
        "outputId": "5fb63542-d741-43dd-a4e2-d99558544bb5"
      },
      "outputs": [
        {
          "output_type": "display_data",
          "data": {
            "text/plain": [
              "<Figure size 650x650 with 16 Axes>"
            ],
            "image/png": "[encoded data removed]"
          },
          "metadata": {}
        }
      ],
      "source": [
        "row, column = 4,4\n",
        "plt.figure(figsize=(6.5,6.5)) # if picture's text will cut other's picture to slove this issue u can adjust `figsize`\n",
        "for idx in range(1,row*column+1):\n",
        "  random = torch.randint(1,len(train_data),size=[1]).item()\n",
        "  image,label = train_data[random]\n",
        "  plt.subplot(row,column,idx) # use subplot to plot the figure\n",
        "  plt.imshow(image.squeeze(),cmap=\"gray\")\n",
        "  plt.title(train_class[label])\n",
        "  plt.axis(False)"
      ]
    },
    {
      "cell_type": "code",
      "execution_count": 84,
      "metadata": {
        "id": "CERdLI8Wo5nV"
      },
      "outputs": [],
      "source": [
        "from torch.utils.data import DataLoader\n",
        "\n",
        "Batch_size = 32\n",
        "\n",
        "train_dataloader = DataLoader(dataset=train_data,\n",
        "                              batch_size=Batch_size,\n",
        "                              shuffle=True)\n",
        "test_dataloader = DataLoader(dataset=test_data,\n",
        "                              batch_size=Batch_size,\n",
        "                              shuffle=False)"
      ]
    },
    {
      "cell_type": "code",
      "execution_count": 85,
      "metadata": {
        "id": "it5J2xKtHQzR",
        "colab": {
          "base_uri": "https://localhost:8080/"
        },
        "outputId": "3c945108-1d81-454e-e292-608970a15d64"
      },
      "outputs": [
        {
          "output_type": "stream",
          "name": "stdout",
          "text": [
            "Train_DataLoader:<torch.utils.data.dataloader.DataLoader object at 0x7caccbb8c550>,len is about:1875\n",
            "Test_DataLoader:<torch.utils.data.dataloader.DataLoader object at 0x7caccbb8dc90> ,len is about:313\n"
          ]
        }
      ],
      "source": [
        "print(f\"Train_DataLoader:{train_dataloader},len is about:{len(train_dataloader)}\")\n",
        "print(f\"Test_DataLoader:{test_dataloader} ,len is about:{len(test_dataloader)}\")"
      ]
    },
    {
      "cell_type": "code",
      "execution_count": 86,
      "metadata": {
        "id": "4Mzdo4Fio5qE",
        "colab": {
          "base_uri": "https://localhost:8080/"
        },
        "outputId": "11e323db-c9c9-467d-bf0d-4f8f3e50527c"
      },
      "outputs": [
        {
          "output_type": "stream",
          "name": "stdout",
          "text": [
            "view the train_data's mini batch size 32\n",
            "Dataset FashionMNIST\n",
            "    Number of datapoints: 60000\n",
            "    Root location: data\n",
            "    Split: Train\n",
            "    StandardTransform\n",
            "Transform: ToTensor()\n",
            "Now after DataLoader the len of train_data is 1875\n",
            "--------------------------------------------------\n",
            "32 x 1875 = 60000\n",
            "so if we follow the train Loop and rule u can find our `EPOCH` is changing!\n",
            "Model is the same concept as Train dataloader\n"
          ]
        }
      ],
      "source": [
        "print(f\"view the train_data's mini batch size {Batch_size}\\n{train_data}\\nNow after DataLoader the len of train_data is {len(train_dataloader)}\")\n",
        "print(\"-\"*50)\n",
        "print(f\"32 x 1875 = {32*1875}\\nso if we follow the train Loop and rule u can find our `EPOCH` is changing!\")\n",
        "print(\"Model is the same concept as Train dataloader\")"
      ]
    },
    {
      "cell_type": "code",
      "execution_count": 87,
      "metadata": {
        "id": "Iufb6MyJo5sc",
        "colab": {
          "base_uri": "https://localhost:8080/"
        },
        "outputId": "98fa9031-2661-4f22-b570-13dfc78bb8e9"
      },
      "outputs": [
        {
          "output_type": "stream",
          "name": "stdout",
          "text": [
            "torch.Size([32, 1, 28, 28])\n",
            "torch.Size([32])\n"
          ]
        }
      ],
      "source": [
        "train_feature,train_label = next(iter(train_dataloader)) # iter -> converted `train_dataloader` into an iterate\n",
        "print(train_feature.shape)                               # next -> find next dataloader's data\n",
        "print(train_label.shape)"
      ]
    },
    {
      "cell_type": "code",
      "execution_count": 88,
      "metadata": {
        "id": "Ot-xL7ZvbDoU",
        "colab": {
          "base_uri": "https://localhost:8080/",
          "height": 576
        },
        "outputId": "05cb6167-08fb-4539-d180-d82fc849186f"
      },
      "outputs": [
        {
          "output_type": "execute_result",
          "data": {
            "text/plain": [
              "(-0.5, 27.5, 27.5, -0.5)"
            ]
          },
          "metadata": {},
          "execution_count": 88
        },
        {
          "output_type": "display_data",
          "data": {
            "text/plain": [
              "<Figure size 650x650 with 1 Axes>"
            ],
            "image/png": "[encoded data removed]"
          },
          "metadata": {}
        }
      ],
      "source": [
        "# see the train_features's picture (after Dataloader)\n",
        "rand_idx = torch.randint(0,len(train_feature),size=[1]).item()\n",
        "image_dataloader,label_dataloader = train_feature[rand_idx],train_label[rand_idx]\n",
        "plt.figure(figsize=(6.5,6.5))\n",
        "plt.imshow(image_dataloader.squeeze(),cmap=\"gray\")\n",
        "plt.title(train_class[label_dataloader])\n",
        "plt.axis(False)"
      ]
    },
    {
      "cell_type": "code",
      "execution_count": 89,
      "metadata": {
        "id": "ypOziAijbDq0",
        "colab": {
          "base_uri": "https://localhost:8080/"
        },
        "outputId": "782e1894-00da-4245-91b5-52b9b27f0273"
      },
      "outputs": [
        {
          "output_type": "stream",
          "name": "stdout",
          "text": [
            "torch.Size([1, 28, 28])\n",
            "torch.Size([1, 784])\n"
          ]
        }
      ],
      "source": [
        "model = nn.Flatten()\n",
        "x = train_feature[0]\n",
        "y = model(x)\n",
        "print(x.shape) # we use `nn.Flatten()` to flatten picture's pixels (from 28x28 to 784)\n",
        "print(y.shape)"
      ]
    },
    {
      "cell_type": "code",
      "execution_count": 90,
      "metadata": {
        "id": "piC9QR1_bDtS"
      },
      "outputs": [],
      "source": [
        "class fashionMNIST(nn.Module):\n",
        "  def __init__(self,input_shape: int,hidden_unit: int,output_shape: int):\n",
        "    super().__init__()\n",
        "    self.layer = nn.Sequential(\n",
        "        nn.Flatten(), # [batch_size, size]\n",
        "        nn.Linear(in_features = input_shape, out_features = hidden_unit),\n",
        "        nn.Linear(in_features = hidden_unit, out_features = output_shape)\n",
        "    )\n",
        "  def forward(self,x):\n",
        "    return self.layer(x)"
      ]
    },
    {
      "cell_type": "markdown",
      "metadata": {
        "id": "6f9mRvugQzxM"
      },
      "source": [
        "Q: Why we are using 28*28 instead of 28\n",
        "\n",
        "A: All we train data's shape, e.g. 'ComputerVision' if u used batch function in order to minimize original data,\n",
        "   after doing that the shape will be 4 demensions\n",
        "   \n",
        "   ->**[batch, Color_Channel, Height, Width]**\n",
        "\n",
        "   our `nn.Linear` especially the in_features, it prefer **2 dimension**, so we have to FLATTEN our data into correct shape\n",
        "\n",
        "\n",
        "   url : https://blog.csdn.net/qq_42079689/article/details/102873766"
      ]
    },
    {
      "cell_type": "code",
      "execution_count": 91,
      "metadata": {
        "id": "Wd-sRoaGbDvs"
      },
      "outputs": [],
      "source": [
        "modelv0 = fashionMNIST(\n",
        "    input_shape = 28*28,\n",
        "    hidden_unit = 10,\n",
        "    output_shape = len(train_class)\n",
        ").to(\"cpu\")\n",
        "\n",
        "# in_features's shape will be [batch_size, hight*width] (our color channel is 1 btw)\n",
        "# same concept as in_features ...\n",
        "# out_features'shape will be [batch_size, output_features]--> apparently is train_class"
      ]
    },
    {
      "cell_type": "code",
      "execution_count": 92,
      "metadata": {
        "id": "fC2hV7WnbDy2",
        "colab": {
          "base_uri": "https://localhost:8080/"
        },
        "outputId": "7344152b-5d5d-4f34-a3ba-0c3295512ca2"
      },
      "outputs": [
        {
          "output_type": "stream",
          "name": "stdout",
          "text": [
            "tensor([[ 0.3863,  0.2165,  0.4648, -0.2515,  0.4499, -0.2246, -0.3200,  0.0107,\n",
            "          0.1552, -0.0849]], grad_fn=<AddmmBackward0>)\n",
            "torch.Size([1, 10])\n"
          ]
        }
      ],
      "source": [
        "test = torch.rand([1,1,28,28]) # [batch, color channel, height, width]\n",
        "test_result = modelv0(test)\n",
        "print(test_result)\n",
        "print(test_result.shape) # so u can see the output shape (2 dimensions) --> (batch,output_shape)"
      ]
    },
    {
      "cell_type": "code",
      "execution_count": 93,
      "metadata": {
        "id": "zRSSZwIKLzvf",
        "colab": {
          "base_uri": "https://localhost:8080/"
        },
        "outputId": "20681fc3-58c9-493b-c6b1-90ae1b9f69f3"
      },
      "outputs": [
        {
          "output_type": "stream",
          "name": "stdout",
          "text": [
            " helper_functions.py is exist !\n"
          ]
        }
      ],
      "source": [
        "if os.path.isfile(\"helper_functions.py\"):\n",
        "  print(\" helper_functions.py is exist !\")\n",
        "else:\n",
        "  print(\"helper_functions.py is not exist ! Preparing for downloading ...\")\n",
        "  url = requests.get(\"https://raw.githubusercontent.com/mrdbourke/pytorch-deep-learning/main/helper_functions.py\")\n",
        "  with open(\"helper_functions.py\",\"wb\") as file:\n",
        "    file.write(url.content)"
      ]
    },
    {
      "cell_type": "code",
      "execution_count": 94,
      "metadata": {
        "id": "AUfbizqf1KM0"
      },
      "outputs": [],
      "source": [
        "from helper_functions import accuracy_fn\n",
        "\n",
        "loss_fn = torch.nn.CrossEntropyLoss()\n",
        "\n",
        "optimizer = torch.optim.SGD(params = modelv0.parameters(),\n",
        "                            lr = 0.1)"
      ]
    },
    {
      "cell_type": "code",
      "execution_count": 95,
      "metadata": {
        "id": "qCjcQsV6jjNl"
      },
      "outputs": [],
      "source": [
        "from timeit import default_timer as timer\n",
        "def calculate_time(start: float,end: float,device : torch.device=None):\n",
        "  total_time = end - start\n",
        "  print(f\" Now the device is on {device}, all progress take {total_time:.2f} second.\")\n",
        "  return total_time"
      ]
    },
    {
      "cell_type": "code",
      "source": [
        "len(train_dataloader)"
      ],
      "metadata": {
        "id": "thM8UGWK07ee",
        "colab": {
          "base_uri": "https://localhost:8080/"
        },
        "outputId": "86165ae2-ad7e-42be-f6e4-d0466858867d"
      },
      "execution_count": 96,
      "outputs": [
        {
          "output_type": "execute_result",
          "data": {
            "text/plain": [
              "1875"
            ]
          },
          "metadata": {},
          "execution_count": 96
        }
      ]
    },
    {
      "cell_type": "code",
      "execution_count": 97,
      "metadata": {
        "id": "Qoz0kBkG6MRk",
        "colab": {
          "base_uri": "https://localhost:8080/",
          "height": 761,
          "referenced_widgets": [
            "73629f17f2a045f7853f61b2660261c6",
            "d498e2e372b644f7882f2a82213e8de3",
            "5d9843a43e004969a1a44356d8387add",
            "082c8df4cc07439ba04fc6c26544c2a4",
            "cfe022f7cb1d4a70ad7fa46e08afccf0",
            "c9271b618d7b48e484914c01f4e33e12",
            "c0d890b8973b44ff8ed50ebdbaec79d5",
            "ffded7347e424389b4648fac41776c33",
            "03cae25703c14520a54193ab22e519ca",
            "c3f23e4b25a84f98bbf5d9299c1b6f4f",
            "b17654f54ce94f178f4fec0d4d6f70f3"
          ]
        },
        "outputId": "a0785d59-c7b4-4d66-e0f9-f525dd5261dc"
      },
      "outputs": [
        {
          "output_type": "display_data",
          "data": {
            "text/plain": [
              "  0%|          | 0/5 [00:00<?, ?it/s]"
            ],
            "application/vnd.jupyter.widget-view+json": {
              "version_major": 2,
              "version_minor": 0,
              "model_id": "73629f17f2a045f7853f61b2660261c6"
            }
          },
          "metadata": {}
        },
        {
          "output_type": "stream",
          "name": "stdout",
          "text": [
            "----------EOPOCH : 0----------\n",
            "\n",
            "This is 0/60000 Samples...\n",
            "This is 12800/60000 Samples...\n",
            "This is 25600/60000 Samples...\n",
            "This is 38400/60000 Samples...\n",
            "This is 51200/60000 Samples...\n",
            "Train_loss : 0.59087, Test_loss : 0.50122, Test_Accuracy : 82.51%\n",
            "----------EOPOCH : 1----------\n",
            "\n",
            "This is 0/60000 Samples...\n",
            "This is 12800/60000 Samples...\n",
            "This is 25600/60000 Samples...\n",
            "This is 38400/60000 Samples...\n",
            "This is 51200/60000 Samples...\n",
            "Train_loss : 0.47527, Test_loss : 0.49728, Test_Accuracy : 82.15%\n",
            "----------EOPOCH : 2----------\n",
            "\n",
            "This is 0/60000 Samples...\n",
            "This is 12800/60000 Samples...\n",
            "This is 25600/60000 Samples...\n",
            "This is 38400/60000 Samples...\n",
            "This is 51200/60000 Samples...\n",
            "Train_loss : 0.45258, Test_loss : 0.50833, Test_Accuracy : 81.20%\n",
            "----------EOPOCH : 3----------\n",
            "\n",
            "This is 0/60000 Samples...\n",
            "This is 12800/60000 Samples...\n",
            "This is 25600/60000 Samples...\n",
            "This is 38400/60000 Samples...\n",
            "This is 51200/60000 Samples...\n",
            "Train_loss : 0.43999, Test_loss : 0.47979, Test_Accuracy : 82.53%\n",
            "----------EOPOCH : 4----------\n",
            "\n",
            "This is 0/60000 Samples...\n",
            "This is 12800/60000 Samples...\n",
            "This is 25600/60000 Samples...\n",
            "This is 38400/60000 Samples...\n",
            "This is 51200/60000 Samples...\n",
            "Train_loss : 0.43626, Test_loss : 0.47994, Test_Accuracy : 83.16%\n",
            " Now the device is on cpu, all progress take 59.44 second.\n"
          ]
        }
      ],
      "source": [
        "from tqdm.auto import tqdm\n",
        "\n",
        "torch.manual_seed(1)\n",
        "train_time_start = timer()\n",
        "\n",
        "epochs = 5\n",
        "\n",
        "for epoch in tqdm(range(epochs)):\n",
        "  print(f\"----------EOPOCH : {epoch}----------\\n\")\n",
        "  train_loss = 0\n",
        "  for batch,(X,y) in enumerate(train_dataloader): # X --> image, y --> label\n",
        "    modelv0.train()\n",
        "    # do the forward pass\n",
        "    y_pred = modelv0(X)\n",
        "\n",
        "    # calculate the loss\n",
        "    loss = loss_fn(y_pred,y)\n",
        "    train_loss += loss\n",
        "\n",
        "    # optimizer zero grad\n",
        "    optimizer.zero_grad()\n",
        "\n",
        "    # loss backward\n",
        "    loss.backward()\n",
        "\n",
        "    # optimizer step\n",
        "    optimizer.step()\n",
        "    if batch % 400 ==0:\n",
        "      print(f\"This is {batch*len(X)}/{len(train_dataloader.dataset)} Samples...\")\n",
        "  train_loss /= len(train_dataloader)\n",
        "\n",
        "  test_loss,test_acc = 0, 0\n",
        "  modelv0.eval()\n",
        "  with torch.inference_mode():\n",
        "    for X,y in test_dataloader:\n",
        "      test_pred = modelv0(X)\n",
        "      test_loss += loss_fn(test_pred,y)\n",
        "      test_acc += accuracy_fn(y_true = y,\n",
        "                             y_pred = torch.argmax(test_pred,dim = 1))\n",
        "    test_loss /= len(test_dataloader)\n",
        "    test_acc /= len(test_dataloader)\n",
        "\n",
        "  print(f\"Train_loss : {train_loss:.5f}, Test_loss : {test_loss:.5f}, Test_Accuracy : {test_acc:.2f}%\")\n",
        "\n",
        "train_time_end = timer()\n",
        "model_train_time = calculate_time(start = train_time_start,\n",
        "                                  end = train_time_end,\n",
        "                                  device = str(next(modelv0.parameters()).device))"
      ]
    },
    {
      "cell_type": "code",
      "source": [
        "def eval_model(model:torch.nn.Module,\n",
        "               loss_fn:torch.nn.Module,\n",
        "               dataloader:torch.utils.data.DataLoader,\n",
        "               accuracy_fn):\n",
        "  model.eval()\n",
        "  test_loss,test_acc = 0,0\n",
        "  with torch.inference_mode():\n",
        "    for X,y in tqdm(dataloader):\n",
        "      test_pred = model(X)\n",
        "      test_loss += loss_fn(test_pred,y)\n",
        "      test_acc += accuracy_fn(y_true = y,\n",
        "                              y_pred = torch.argmax(test_pred,dim =1))\n",
        "    test_loss /= len(dataloader)\n",
        "    test_acc /= len(dataloader)\n",
        "  return {\"model\" : model.__class__.__name__,\n",
        "          \"Loss\" : test_loss.item(),\n",
        "          \"Accuracy\" : test_acc}"
      ],
      "metadata": {
        "id": "2Mb_34vV4RXD"
      },
      "execution_count": 100,
      "outputs": []
    },
    {
      "cell_type": "code",
      "source": [
        "model_test_result = eval_model(model = modelv0,\n",
        "                               loss_fn = loss_fn,\n",
        "                               dataloader = test_dataloader,\n",
        "                               accuracy_fn = accuracy_fn)\n",
        "model_test_result"
      ],
      "metadata": {
        "id": "KNzy7a4I4RZr",
        "colab": {
          "base_uri": "https://localhost:8080/",
          "height": 101,
          "referenced_widgets": [
            "038cb1e5f8414f2d9e9b12626b26fa7c",
            "57479a6dab6a4147b2a1fb6dd962a12c",
            "1b9e235c300c400c8c19ddb875d4684a",
            "0c1706a2ffa24223afa223e256999b2f",
            "407b61d9a3534e78987b82fbed6bdf61",
            "fde1fb5b118743f7a1dc1a8271456a28",
            "8bfb0a6d444647408668a2bafe9df697",
            "e3870d27448346319ebd31e8aa3fbe5c",
            "285c8ac53a564fcb92dd68789af2dcb4",
            "c705f00fbac64f47afb2b0018fa7997f",
            "f605610ea074498e9bd0a31826fd8c86"
          ]
        },
        "outputId": "96e9c6ae-4f8b-4d03-ef95-541e423ea7ac"
      },
      "execution_count": 101,
      "outputs": [
        {
          "output_type": "display_data",
          "data": {
            "text/plain": [
              "  0%|          | 0/313 [00:00<?, ?it/s]"
            ],
            "application/vnd.jupyter.widget-view+json": {
              "version_major": 2,
              "version_minor": 0,
              "model_id": "038cb1e5f8414f2d9e9b12626b26fa7c"
            }
          },
          "metadata": {}
        },
        {
          "output_type": "execute_result",
          "data": {
            "text/plain": [
              "{'model': 'fashionMNIST',\n",
              " 'Loss': 0.4799373745918274,\n",
              " 'Accuracy': 83.15694888178913}"
            ]
          },
          "metadata": {},
          "execution_count": 101
        }
      ]
    }
  ],
  "metadata": {
    "colab": {
      "provenance": [],
      "authorship_tag": "ABX9TyN3ATy+AhWPrwQb9MSLWhhk",
      "include_colab_link": true
    },
    "kernelspec": {
      "display_name": "Python 3",
      "name": "python3"
    },
    "language_info": {
      "name": "python"
    },
    "widgets": {
      "application/vnd.jupyter.widget-state+json": {
        "73629f17f2a045f7853f61b2660261c6": {
          "model_module": "@jupyter-widgets/controls",
          "model_name": "HBoxModel",
          "model_module_version": "1.5.0",
          "state": {
            "_dom_classes": [],
            "_model_module": "@jupyter-widgets/controls",
            "_model_module_version": "1.5.0",
            "_model_name": "HBoxModel",
            "_view_count": null,
            "_view_module": "@jupyter-widgets/controls",
            "_view_module_version": "1.5.0",
            "_view_name": "HBoxView",
            "box_style": "",
            "children": [
              "IPY_MODEL_d498e2e372b644f7882f2a82213e8de3",
              "IPY_MODEL_5d9843a43e004969a1a44356d8387add",
              "IPY_MODEL_082c8df4cc07439ba04fc6c26544c2a4"
            ],
            "layout": "IPY_MODEL_cfe022f7cb1d4a70ad7fa46e08afccf0"
          }
        },
        "d498e2e372b644f7882f2a82213e8de3": {
          "model_module": "@jupyter-widgets/controls",
          "model_name": "HTMLModel",
          "model_module_version": "1.5.0",
          "state": {
            "_dom_classes": [],
            "_model_module": "@jupyter-widgets/controls",
            "_model_module_version": "1.5.0",
            "_model_name": "HTMLModel",
            "_view_count": null,
            "_view_module": "@jupyter-widgets/controls",
            "_view_module_version": "1.5.0",
            "_view_name": "HTMLView",
            "description": "",
            "description_tooltip": null,
            "layout": "IPY_MODEL_c9271b618d7b48e484914c01f4e33e12",
            "placeholder": "​",
            "style": "IPY_MODEL_c0d890b8973b44ff8ed50ebdbaec79d5",
            "value": "100%"
          }
        },
        "5d9843a43e004969a1a44356d8387add": {
          "model_module": "@jupyter-widgets/controls",
          "model_name": "FloatProgressModel",
          "model_module_version": "1.5.0",
          "state": {
            "_dom_classes": [],
            "_model_module": "@jupyter-widgets/controls",
            "_model_module_version": "1.5.0",
            "_model_name": "FloatProgressModel",
            "_view_count": null,
            "_view_module": "@jupyter-widgets/controls",
            "_view_module_version": "1.5.0",
            "_view_name": "ProgressView",
            "bar_style": "success",
            "description": "",
            "description_tooltip": null,
            "layout": "IPY_MODEL_ffded7347e424389b4648fac41776c33",
            "max": 5,
            "min": 0,
            "orientation": "horizontal",
            "style": "IPY_MODEL_03cae25703c14520a54193ab22e519ca",
            "value": 5
          }
        },
        "082c8df4cc07439ba04fc6c26544c2a4": {
          "model_module": "@jupyter-widgets/controls",
          "model_name": "HTMLModel",
          "model_module_version": "1.5.0",
          "state": {
            "_dom_classes": [],
            "_model_module": "@jupyter-widgets/controls",
            "_model_module_version": "1.5.0",
            "_model_name": "HTMLModel",
            "_view_count": null,
            "_view_module": "@jupyter-widgets/controls",
            "_view_module_version": "1.5.0",
            "_view_name": "HTMLView",
            "description": "",
            "description_tooltip": null,
            "layout": "IPY_MODEL_c3f23e4b25a84f98bbf5d9299c1b6f4f",
            "placeholder": "​",
            "style": "IPY_MODEL_b17654f54ce94f178f4fec0d4d6f70f3",
            "value": " 5/5 [00:59&lt;00:00, 11.84s/it]"
          }
        },
        "cfe022f7cb1d4a70ad7fa46e08afccf0": {
          "model_module": "@jupyter-widgets/base",
          "model_name": "LayoutModel",
          "model_module_version": "1.2.0",
          "state": {
            "_model_module": "@jupyter-widgets/base",
            "_model_module_version": "1.2.0",
            "_model_name": "LayoutModel",
            "_view_count": null,
            "_view_module": "@jupyter-widgets/base",
            "_view_module_version": "1.2.0",
            "_view_name": "LayoutView",
            "align_content": null,
            "align_items": null,
            "align_self": null,
            "border": null,
            "bottom": null,
            "display": null,
            "flex": null,
            "flex_flow": null,
            "grid_area": null,
            "grid_auto_columns": null,
            "grid_auto_flow": null,
            "grid_auto_rows": null,
            "grid_column": null,
            "grid_gap": null,
            "grid_row": null,
            "grid_template_areas": null,
            "grid_template_columns": null,
            "grid_template_rows": null,
            "height": null,
            "justify_content": null,
            "justify_items": null,
            "left": null,
            "margin": null,
            "max_height": null,
            "max_width": null,
            "min_height": null,
            "min_width": null,
            "object_fit": null,
            "object_position": null,
            "order": null,
            "overflow": null,
            "overflow_x": null,
            "overflow_y": null,
            "padding": null,
            "right": null,
            "top": null,
            "visibility": null,
            "width": null
          }
        },
        "c9271b618d7b48e484914c01f4e33e12": {
          "model_module": "@jupyter-widgets/base",
          "model_name": "LayoutModel",
          "model_module_version": "1.2.0",
          "state": {
            "_model_module": "@jupyter-widgets/base",
            "_model_module_version": "1.2.0",
            "_model_name": "LayoutModel",
            "_view_count": null,
            "_view_module": "@jupyter-widgets/base",
            "_view_module_version": "1.2.0",
            "_view_name": "LayoutView",
            "align_content": null,
            "align_items": null,
            "align_self": null,
            "border": null,
            "bottom": null,
            "display": null,
            "flex": null,
            "flex_flow": null,
            "grid_area": null,
            "grid_auto_columns": null,
            "grid_auto_flow": null,
            "grid_auto_rows": null,
            "grid_column": null,
            "grid_gap": null,
            "grid_row": null,
            "grid_template_areas": null,
            "grid_template_columns": null,
            "grid_template_rows": null,
            "height": null,
            "justify_content": null,
            "justify_items": null,
            "left": null,
            "margin": null,
            "max_height": null,
            "max_width": null,
            "min_height": null,
            "min_width": null,
            "object_fit": null,
            "object_position": null,
            "order": null,
            "overflow": null,
            "overflow_x": null,
            "overflow_y": null,
            "padding": null,
            "right": null,
            "top": null,
            "visibility": null,
            "width": null
          }
        },
        "c0d890b8973b44ff8ed50ebdbaec79d5": {
          "model_module": "@jupyter-widgets/controls",
          "model_name": "DescriptionStyleModel",
          "model_module_version": "1.5.0",
          "state": {
            "_model_module": "@jupyter-widgets/controls",
            "_model_module_version": "1.5.0",
            "_model_name": "DescriptionStyleModel",
            "_view_count": null,
            "_view_module": "@jupyter-widgets/base",
            "_view_module_version": "1.2.0",
            "_view_name": "StyleView",
            "description_width": ""
          }
        },
        "ffded7347e424389b4648fac41776c33": {
          "model_module": "@jupyter-widgets/base",
          "model_name": "LayoutModel",
          "model_module_version": "1.2.0",
          "state": {
            "_model_module": "@jupyter-widgets/base",
            "_model_module_version": "1.2.0",
            "_model_name": "LayoutModel",
            "_view_count": null,
            "_view_module": "@jupyter-widgets/base",
            "_view_module_version": "1.2.0",
            "_view_name": "LayoutView",
            "align_content": null,
            "align_items": null,
            "align_self": null,
            "border": null,
            "bottom": null,
            "display": null,
            "flex": null,
            "flex_flow": null,
            "grid_area": null,
            "grid_auto_columns": null,
            "grid_auto_flow": null,
            "grid_auto_rows": null,
            "grid_column": null,
            "grid_gap": null,
            "grid_row": null,
            "grid_template_areas": null,
            "grid_template_columns": null,
            "grid_template_rows": null,
            "height": null,
            "justify_content": null,
            "justify_items": null,
            "left": null,
            "margin": null,
            "max_height": null,
            "max_width": null,
            "min_height": null,
            "min_width": null,
            "object_fit": null,
            "object_position": null,
            "order": null,
            "overflow": null,
            "overflow_x": null,
            "overflow_y": null,
            "padding": null,
            "right": null,
            "top": null,
            "visibility": null,
            "width": null
          }
        },
        "03cae25703c14520a54193ab22e519ca": {
          "model_module": "@jupyter-widgets/controls",
          "model_name": "ProgressStyleModel",
          "model_module_version": "1.5.0",
          "state": {
            "_model_module": "@jupyter-widgets/controls",
            "_model_module_version": "1.5.0",
            "_model_name": "ProgressStyleModel",
            "_view_count": null,
            "_view_module": "@jupyter-widgets/base",
            "_view_module_version": "1.2.0",
            "_view_name": "StyleView",
            "bar_color": null,
            "description_width": ""
          }
        },
        "c3f23e4b25a84f98bbf5d9299c1b6f4f": {
          "model_module": "@jupyter-widgets/base",
          "model_name": "LayoutModel",
          "model_module_version": "1.2.0",
          "state": {
            "_model_module": "@jupyter-widgets/base",
            "_model_module_version": "1.2.0",
            "_model_name": "LayoutModel",
            "_view_count": null,
            "_view_module": "@jupyter-widgets/base",
            "_view_module_version": "1.2.0",
            "_view_name": "LayoutView",
            "align_content": null,
            "align_items": null,
            "align_self": null,
            "border": null,
            "bottom": null,
            "display": null,
            "flex": null,
            "flex_flow": null,
            "grid_area": null,
            "grid_auto_columns": null,
            "grid_auto_flow": null,
            "grid_auto_rows": null,
            "grid_column": null,
            "grid_gap": null,
            "grid_row": null,
            "grid_template_areas": null,
            "grid_template_columns": null,
            "grid_template_rows": null,
            "height": null,
            "justify_content": null,
            "justify_items": null,
            "left": null,
            "margin": null,
            "max_height": null,
            "max_width": null,
            "min_height": null,
            "min_width": null,
            "object_fit": null,
            "object_position": null,
            "order": null,
            "overflow": null,
            "overflow_x": null,
            "overflow_y": null,
            "padding": null,
            "right": null,
            "top": null,
            "visibility": null,
            "width": null
          }
        },
        "b17654f54ce94f178f4fec0d4d6f70f3": {
          "model_module": "@jupyter-widgets/controls",
          "model_name": "DescriptionStyleModel",
          "model_module_version": "1.5.0",
          "state": {
            "_model_module": "@jupyter-widgets/controls",
            "_model_module_version": "1.5.0",
            "_model_name": "DescriptionStyleModel",
            "_view_count": null,
            "_view_module": "@jupyter-widgets/base",
            "_view_module_version": "1.2.0",
            "_view_name": "StyleView",
            "description_width": ""
          }
        },
        "038cb1e5f8414f2d9e9b12626b26fa7c": {
          "model_module": "@jupyter-widgets/controls",
          "model_name": "HBoxModel",
          "model_module_version": "1.5.0",
          "state": {
            "_dom_classes": [],
            "_model_module": "@jupyter-widgets/controls",
            "_model_module_version": "1.5.0",
            "_model_name": "HBoxModel",
            "_view_count": null,
            "_view_module": "@jupyter-widgets/controls",
            "_view_module_version": "1.5.0",
            "_view_name": "HBoxView",
            "box_style": "",
            "children": [
              "IPY_MODEL_57479a6dab6a4147b2a1fb6dd962a12c",
              "IPY_MODEL_1b9e235c300c400c8c19ddb875d4684a",
              "IPY_MODEL_0c1706a2ffa24223afa223e256999b2f"
            ],
            "layout": "IPY_MODEL_407b61d9a3534e78987b82fbed6bdf61"
          }
        },
        "57479a6dab6a4147b2a1fb6dd962a12c": {
          "model_module": "@jupyter-widgets/controls",
          "model_name": "HTMLModel",
          "model_module_version": "1.5.0",
          "state": {
            "_dom_classes": [],
            "_model_module": "@jupyter-widgets/controls",
            "_model_module_version": "1.5.0",
            "_model_name": "HTMLModel",
            "_view_count": null,
            "_view_module": "@jupyter-widgets/controls",
            "_view_module_version": "1.5.0",
            "_view_name": "HTMLView",
            "description": "",
            "description_tooltip": null,
            "layout": "IPY_MODEL_fde1fb5b118743f7a1dc1a8271456a28",
            "placeholder": "​",
            "style": "IPY_MODEL_8bfb0a6d444647408668a2bafe9df697",
            "value": "100%"
          }
        },
        "1b9e235c300c400c8c19ddb875d4684a": {
          "model_module": "@jupyter-widgets/controls",
          "model_name": "FloatProgressModel",
          "model_module_version": "1.5.0",
          "state": {
            "_dom_classes": [],
            "_model_module": "@jupyter-widgets/controls",
            "_model_module_version": "1.5.0",
            "_model_name": "FloatProgressModel",
            "_view_count": null,
            "_view_module": "@jupyter-widgets/controls",
            "_view_module_version": "1.5.0",
            "_view_name": "ProgressView",
            "bar_style": "success",
            "description": "",
            "description_tooltip": null,
            "layout": "IPY_MODEL_e3870d27448346319ebd31e8aa3fbe5c",
            "max": 313,
            "min": 0,
            "orientation": "horizontal",
            "style": "IPY_MODEL_285c8ac53a564fcb92dd68789af2dcb4",
            "value": 313
          }
        },
        "0c1706a2ffa24223afa223e256999b2f": {
          "model_module": "@jupyter-widgets/controls",
          "model_name": "HTMLModel",
          "model_module_version": "1.5.0",
          "state": {
            "_dom_classes": [],
            "_model_module": "@jupyter-widgets/controls",
            "_model_module_version": "1.5.0",
            "_model_name": "HTMLModel",
            "_view_count": null,
            "_view_module": "@jupyter-widgets/controls",
            "_view_module_version": "1.5.0",
            "_view_name": "HTMLView",
            "description": "",
            "description_tooltip": null,
            "layout": "IPY_MODEL_c705f00fbac64f47afb2b0018fa7997f",
            "placeholder": "​",
            "style": "IPY_MODEL_f605610ea074498e9bd0a31826fd8c86",
            "value": " 313/313 [00:01&lt;00:00, 231.27it/s]"
          }
        },
        "407b61d9a3534e78987b82fbed6bdf61": {
          "model_module": "@jupyter-widgets/base",
          "model_name": "LayoutModel",
          "model_module_version": "1.2.0",
          "state": {
            "_model_module": "@jupyter-widgets/base",
            "_model_module_version": "1.2.0",
            "_model_name": "LayoutModel",
            "_view_count": null,
            "_view_module": "@jupyter-widgets/base",
            "_view_module_version": "1.2.0",
            "_view_name": "LayoutView",
            "align_content": null,
            "align_items": null,
            "align_self": null,
            "border": null,
            "bottom": null,
            "display": null,
            "flex": null,
            "flex_flow": null,
            "grid_area": null,
            "grid_auto_columns": null,
            "grid_auto_flow": null,
            "grid_auto_rows": null,
            "grid_column": null,
            "grid_gap": null,
            "grid_row": null,
            "grid_template_areas": null,
            "grid_template_columns": null,
            "grid_template_rows": null,
            "height": null,
            "justify_content": null,
            "justify_items": null,
            "left": null,
            "margin": null,
            "max_height": null,
            "max_width": null,
            "min_height": null,
            "min_width": null,
            "object_fit": null,
            "object_position": null,
            "order": null,
            "overflow": null,
            "overflow_x": null,
            "overflow_y": null,
            "padding": null,
            "right": null,
            "top": null,
            "visibility": null,
            "width": null
          }
        },
        "fde1fb5b118743f7a1dc1a8271456a28": {
          "model_module": "@jupyter-widgets/base",
          "model_name": "LayoutModel",
          "model_module_version": "1.2.0",
          "state": {
            "_model_module": "@jupyter-widgets/base",
            "_model_module_version": "1.2.0",
            "_model_name": "LayoutModel",
            "_view_count": null,
            "_view_module": "@jupyter-widgets/base",
            "_view_module_version": "1.2.0",
            "_view_name": "LayoutView",
            "align_content": null,
            "align_items": null,
            "align_self": null,
            "border": null,
            "bottom": null,
            "display": null,
            "flex": null,
            "flex_flow": null,
            "grid_area": null,
            "grid_auto_columns": null,
            "grid_auto_flow": null,
            "grid_auto_rows": null,
            "grid_column": null,
            "grid_gap": null,
            "grid_row": null,
            "grid_template_areas": null,
            "grid_template_columns": null,
            "grid_template_rows": null,
            "height": null,
            "justify_content": null,
            "justify_items": null,
            "left": null,
            "margin": null,
            "max_height": null,
            "max_width": null,
            "min_height": null,
            "min_width": null,
            "object_fit": null,
            "object_position": null,
            "order": null,
            "overflow": null,
            "overflow_x": null,
            "overflow_y": null,
            "padding": null,
            "right": null,
            "top": null,
            "visibility": null,
            "width": null
          }
        },
        "8bfb0a6d444647408668a2bafe9df697": {
          "model_module": "@jupyter-widgets/controls",
          "model_name": "DescriptionStyleModel",
          "model_module_version": "1.5.0",
          "state": {
            "_model_module": "@jupyter-widgets/controls",
            "_model_module_version": "1.5.0",
            "_model_name": "DescriptionStyleModel",
            "_view_count": null,
            "_view_module": "@jupyter-widgets/base",
            "_view_module_version": "1.2.0",
            "_view_name": "StyleView",
            "description_width": ""
          }
        },
        "e3870d27448346319ebd31e8aa3fbe5c": {
          "model_module": "@jupyter-widgets/base",
          "model_name": "LayoutModel",
          "model_module_version": "1.2.0",
          "state": {
            "_model_module": "@jupyter-widgets/base",
            "_model_module_version": "1.2.0",
            "_model_name": "LayoutModel",
            "_view_count": null,
            "_view_module": "@jupyter-widgets/base",
            "_view_module_version": "1.2.0",
            "_view_name": "LayoutView",
            "align_content": null,
            "align_items": null,
            "align_self": null,
            "border": null,
            "bottom": null,
            "display": null,
            "flex": null,
            "flex_flow": null,
            "grid_area": null,
            "grid_auto_columns": null,
            "grid_auto_flow": null,
            "grid_auto_rows": null,
            "grid_column": null,
            "grid_gap": null,
            "grid_row": null,
            "grid_template_areas": null,
            "grid_template_columns": null,
            "grid_template_rows": null,
            "height": null,
            "justify_content": null,
            "justify_items": null,
            "left": null,
            "margin": null,
            "max_height": null,
            "max_width": null,
            "min_height": null,
            "min_width": null,
            "object_fit": null,
            "object_position": null,
            "order": null,
            "overflow": null,
            "overflow_x": null,
            "overflow_y": null,
            "padding": null,
            "right": null,
            "top": null,
            "visibility": null,
            "width": null
          }
        },
        "285c8ac53a564fcb92dd68789af2dcb4": {
          "model_module": "@jupyter-widgets/controls",
          "model_name": "ProgressStyleModel",
          "model_module_version": "1.5.0",
          "state": {
            "_model_module": "@jupyter-widgets/controls",
            "_model_module_version": "1.5.0",
            "_model_name": "ProgressStyleModel",
            "_view_count": null,
            "_view_module": "@jupyter-widgets/base",
            "_view_module_version": "1.2.0",
            "_view_name": "StyleView",
            "bar_color": null,
            "description_width": ""
          }
        },
        "c705f00fbac64f47afb2b0018fa7997f": {
          "model_module": "@jupyter-widgets/base",
          "model_name": "LayoutModel",
          "model_module_version": "1.2.0",
          "state": {
            "_model_module": "@jupyter-widgets/base",
            "_model_module_version": "1.2.0",
            "_model_name": "LayoutModel",
            "_view_count": null,
            "_view_module": "@jupyter-widgets/base",
            "_view_module_version": "1.2.0",
            "_view_name": "LayoutView",
            "align_content": null,
            "align_items": null,
            "align_self": null,
            "border": null,
            "bottom": null,
            "display": null,
            "flex": null,
            "flex_flow": null,
            "grid_area": null,
            "grid_auto_columns": null,
            "grid_auto_flow": null,
            "grid_auto_rows": null,
            "grid_column": null,
            "grid_gap": null,
            "grid_row": null,
            "grid_template_areas": null,
            "grid_template_columns": null,
            "grid_template_rows": null,
            "height": null,
            "justify_content": null,
            "justify_items": null,
            "left": null,
            "margin": null,
            "max_height": null,
            "max_width": null,
            "min_height": null,
            "min_width": null,
            "object_fit": null,
            "object_position": null,
            "order": null,
            "overflow": null,
            "overflow_x": null,
            "overflow_y": null,
            "padding": null,
            "right": null,
            "top": null,
            "visibility": null,
            "width": null
          }
        },
        "f605610ea074498e9bd0a31826fd8c86": {
          "model_module": "@jupyter-widgets/controls",
          "model_name": "DescriptionStyleModel",
          "model_module_version": "1.5.0",
          "state": {
            "_model_module": "@jupyter-widgets/controls",
            "_model_module_version": "1.5.0",
            "_model_name": "DescriptionStyleModel",
            "_view_count": null,
            "_view_module": "@jupyter-widgets/base",
            "_view_module_version": "1.2.0",
            "_view_name": "StyleView",
            "description_width": ""
          }
        }
      }
    }
  },
  "nbformat": 4,
  "nbformat_minor": 0
}