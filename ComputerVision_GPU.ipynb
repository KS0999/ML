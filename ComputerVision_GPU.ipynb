{
  "nbformat": 4,
  "nbformat_minor": 0,
  "metadata": {
    "colab": {
      "provenance": [],
      "gpuType": "T4",
      "authorship_tag": "ABX9TyPox3L698y5j3ynMC9nxKFc",
      "include_colab_link": true
    },
    "kernelspec": {
      "name": "python3",
      "display_name": "Python 3"
    },
    "language_info": {
      "name": "python"
    },
    "accelerator": "GPU",
    "widgets": {
      "application/vnd.jupyter.widget-state+json": {
        "d8161b16d9c3406bbd413bbc3c7e155b": {
          "model_module": "@jupyter-widgets/controls",
          "model_name": "HBoxModel",
          "model_module_version": "1.5.0",
          "state": {
            "_dom_classes": [],
            "_model_module": "@jupyter-widgets/controls",
            "_model_module_version": "1.5.0",
            "_model_name": "HBoxModel",
            "_view_count": null,
            "_view_module": "@jupyter-widgets/controls",
            "_view_module_version": "1.5.0",
            "_view_name": "HBoxView",
            "box_style": "",
            "children": [
              "IPY_MODEL_78549c6d23384498a903280b6a0f815e",
              "IPY_MODEL_dd097c39093b4168be4416eca87d6f76",
              "IPY_MODEL_aeab160f6f484b1aa6ce12220bfad7b1"
            ],
            "layout": "IPY_MODEL_b9584503325d4867bbcd9be6e4292cd1"
          }
        },
        "78549c6d23384498a903280b6a0f815e": {
          "model_module": "@jupyter-widgets/controls",
          "model_name": "HTMLModel",
          "model_module_version": "1.5.0",
          "state": {
            "_dom_classes": [],
            "_model_module": "@jupyter-widgets/controls",
            "_model_module_version": "1.5.0",
            "_model_name": "HTMLModel",
            "_view_count": null,
            "_view_module": "@jupyter-widgets/controls",
            "_view_module_version": "1.5.0",
            "_view_name": "HTMLView",
            "description": "",
            "description_tooltip": null,
            "layout": "IPY_MODEL_343bfcec00744ea4986f22224fe939c1",
            "placeholder": "​",
            "style": "IPY_MODEL_44f9e3ef90f4409bbc448171eb62984d",
            "value": "100%"
          }
        },
        "dd097c39093b4168be4416eca87d6f76": {
          "model_module": "@jupyter-widgets/controls",
          "model_name": "FloatProgressModel",
          "model_module_version": "1.5.0",
          "state": {
            "_dom_classes": [],
            "_model_module": "@jupyter-widgets/controls",
            "_model_module_version": "1.5.0",
            "_model_name": "FloatProgressModel",
            "_view_count": null,
            "_view_module": "@jupyter-widgets/controls",
            "_view_module_version": "1.5.0",
            "_view_name": "ProgressView",
            "bar_style": "success",
            "description": "",
            "description_tooltip": null,
            "layout": "IPY_MODEL_e9b589e14e264dd5a112e398cc0ef818",
            "max": 3,
            "min": 0,
            "orientation": "horizontal",
            "style": "IPY_MODEL_08dfd32d03f24c79a1d0ffb95e0fd0d7",
            "value": 3
          }
        },
        "aeab160f6f484b1aa6ce12220bfad7b1": {
          "model_module": "@jupyter-widgets/controls",
          "model_name": "HTMLModel",
          "model_module_version": "1.5.0",
          "state": {
            "_dom_classes": [],
            "_model_module": "@jupyter-widgets/controls",
            "_model_module_version": "1.5.0",
            "_model_name": "HTMLModel",
            "_view_count": null,
            "_view_module": "@jupyter-widgets/controls",
            "_view_module_version": "1.5.0",
            "_view_name": "HTMLView",
            "description": "",
            "description_tooltip": null,
            "layout": "IPY_MODEL_72b91f889869406d9c25e9305bc68915",
            "placeholder": "​",
            "style": "IPY_MODEL_07c3b13a1e254d31a01dcb2778e8d128",
            "value": " 3/3 [00:14&lt;00:00,  4.41s/it]"
          }
        },
        "b9584503325d4867bbcd9be6e4292cd1": {
          "model_module": "@jupyter-widgets/base",
          "model_name": "LayoutModel",
          "model_module_version": "1.2.0",
          "state": {
            "_model_module": "@jupyter-widgets/base",
            "_model_module_version": "1.2.0",
            "_model_name": "LayoutModel",
            "_view_count": null,
            "_view_module": "@jupyter-widgets/base",
            "_view_module_version": "1.2.0",
            "_view_name": "LayoutView",
            "align_content": null,
            "align_items": null,
            "align_self": null,
            "border": null,
            "bottom": null,
            "display": null,
            "flex": null,
            "flex_flow": null,
            "grid_area": null,
            "grid_auto_columns": null,
            "grid_auto_flow": null,
            "grid_auto_rows": null,
            "grid_column": null,
            "grid_gap": null,
            "grid_row": null,
            "grid_template_areas": null,
            "grid_template_columns": null,
            "grid_template_rows": null,
            "height": null,
            "justify_content": null,
            "justify_items": null,
            "left": null,
            "margin": null,
            "max_height": null,
            "max_width": null,
            "min_height": null,
            "min_width": null,
            "object_fit": null,
            "object_position": null,
            "order": null,
            "overflow": null,
            "overflow_x": null,
            "overflow_y": null,
            "padding": null,
            "right": null,
            "top": null,
            "visibility": null,
            "width": null
          }
        },
        "343bfcec00744ea4986f22224fe939c1": {
          "model_module": "@jupyter-widgets/base",
          "model_name": "LayoutModel",
          "model_module_version": "1.2.0",
          "state": {
            "_model_module": "@jupyter-widgets/base",
            "_model_module_version": "1.2.0",
            "_model_name": "LayoutModel",
            "_view_count": null,
            "_view_module": "@jupyter-widgets/base",
            "_view_module_version": "1.2.0",
            "_view_name": "LayoutView",
            "align_content": null,
            "align_items": null,
            "align_self": null,
            "border": null,
            "bottom": null,
            "display": null,
            "flex": null,
            "flex_flow": null,
            "grid_area": null,
            "grid_auto_columns": null,
            "grid_auto_flow": null,
            "grid_auto_rows": null,
            "grid_column": null,
            "grid_gap": null,
            "grid_row": null,
            "grid_template_areas": null,
            "grid_template_columns": null,
            "grid_template_rows": null,
            "height": null,
            "justify_content": null,
            "justify_items": null,
            "left": null,
            "margin": null,
            "max_height": null,
            "max_width": null,
            "min_height": null,
            "min_width": null,
            "object_fit": null,
            "object_position": null,
            "order": null,
            "overflow": null,
            "overflow_x": null,
            "overflow_y": null,
            "padding": null,
            "right": null,
            "top": null,
            "visibility": null,
            "width": null
          }
        },
        "44f9e3ef90f4409bbc448171eb62984d": {
          "model_module": "@jupyter-widgets/controls",
          "model_name": "DescriptionStyleModel",
          "model_module_version": "1.5.0",
          "state": {
            "_model_module": "@jupyter-widgets/controls",
            "_model_module_version": "1.5.0",
            "_model_name": "DescriptionStyleModel",
            "_view_count": null,
            "_view_module": "@jupyter-widgets/base",
            "_view_module_version": "1.2.0",
            "_view_name": "StyleView",
            "description_width": ""
          }
        },
        "e9b589e14e264dd5a112e398cc0ef818": {
          "model_module": "@jupyter-widgets/base",
          "model_name": "LayoutModel",
          "model_module_version": "1.2.0",
          "state": {
            "_model_module": "@jupyter-widgets/base",
            "_model_module_version": "1.2.0",
            "_model_name": "LayoutModel",
            "_view_count": null,
            "_view_module": "@jupyter-widgets/base",
            "_view_module_version": "1.2.0",
            "_view_name": "LayoutView",
            "align_content": null,
            "align_items": null,
            "align_self": null,
            "border": null,
            "bottom": null,
            "display": null,
            "flex": null,
            "flex_flow": null,
            "grid_area": null,
            "grid_auto_columns": null,
            "grid_auto_flow": null,
            "grid_auto_rows": null,
            "grid_column": null,
            "grid_gap": null,
            "grid_row": null,
            "grid_template_areas": null,
            "grid_template_columns": null,
            "grid_template_rows": null,
            "height": null,
            "justify_content": null,
            "justify_items": null,
            "left": null,
            "margin": null,
            "max_height": null,
            "max_width": null,
            "min_height": null,
            "min_width": null,
            "object_fit": null,
            "object_position": null,
            "order": null,
            "overflow": null,
            "overflow_x": null,
            "overflow_y": null,
            "padding": null,
            "right": null,
            "top": null,
            "visibility": null,
            "width": null
          }
        },
        "08dfd32d03f24c79a1d0ffb95e0fd0d7": {
          "model_module": "@jupyter-widgets/controls",
          "model_name": "ProgressStyleModel",
          "model_module_version": "1.5.0",
          "state": {
            "_model_module": "@jupyter-widgets/controls",
            "_model_module_version": "1.5.0",
            "_model_name": "ProgressStyleModel",
            "_view_count": null,
            "_view_module": "@jupyter-widgets/base",
            "_view_module_version": "1.2.0",
            "_view_name": "StyleView",
            "bar_color": null,
            "description_width": ""
          }
        },
        "72b91f889869406d9c25e9305bc68915": {
          "model_module": "@jupyter-widgets/base",
          "model_name": "LayoutModel",
          "model_module_version": "1.2.0",
          "state": {
            "_model_module": "@jupyter-widgets/base",
            "_model_module_version": "1.2.0",
            "_model_name": "LayoutModel",
            "_view_count": null,
            "_view_module": "@jupyter-widgets/base",
            "_view_module_version": "1.2.0",
            "_view_name": "LayoutView",
            "align_content": null,
            "align_items": null,
            "align_self": null,
            "border": null,
            "bottom": null,
            "display": null,
            "flex": null,
            "flex_flow": null,
            "grid_area": null,
            "grid_auto_columns": null,
            "grid_auto_flow": null,
            "grid_auto_rows": null,
            "grid_column": null,
            "grid_gap": null,
            "grid_row": null,
            "grid_template_areas": null,
            "grid_template_columns": null,
            "grid_template_rows": null,
            "height": null,
            "justify_content": null,
            "justify_items": null,
            "left": null,
            "margin": null,
            "max_height": null,
            "max_width": null,
            "min_height": null,
            "min_width": null,
            "object_fit": null,
            "object_position": null,
            "order": null,
            "overflow": null,
            "overflow_x": null,
            "overflow_y": null,
            "padding": null,
            "right": null,
            "top": null,
            "visibility": null,
            "width": null
          }
        },
        "07c3b13a1e254d31a01dcb2778e8d128": {
          "model_module": "@jupyter-widgets/controls",
          "model_name": "DescriptionStyleModel",
          "model_module_version": "1.5.0",
          "state": {
            "_model_module": "@jupyter-widgets/controls",
            "_model_module_version": "1.5.0",
            "_model_name": "DescriptionStyleModel",
            "_view_count": null,
            "_view_module": "@jupyter-widgets/base",
            "_view_module_version": "1.2.0",
            "_view_name": "StyleView",
            "description_width": ""
          }
        },
        "e8aca90ca7574b80a61056fb89d462eb": {
          "model_module": "@jupyter-widgets/controls",
          "model_name": "HBoxModel",
          "model_module_version": "1.5.0",
          "state": {
            "_dom_classes": [],
            "_model_module": "@jupyter-widgets/controls",
            "_model_module_version": "1.5.0",
            "_model_name": "HBoxModel",
            "_view_count": null,
            "_view_module": "@jupyter-widgets/controls",
            "_view_module_version": "1.5.0",
            "_view_name": "HBoxView",
            "box_style": "",
            "children": [
              "IPY_MODEL_74c48d8ef6474b59a2436768fcc60f41",
              "IPY_MODEL_6d9b28e3215e40b8bc7944da55aba2dc",
              "IPY_MODEL_0f706ae0e0464c95ac57296469e182e0"
            ],
            "layout": "IPY_MODEL_9a13da386c9549e6b84db7c8ed94085b"
          }
        },
        "74c48d8ef6474b59a2436768fcc60f41": {
          "model_module": "@jupyter-widgets/controls",
          "model_name": "HTMLModel",
          "model_module_version": "1.5.0",
          "state": {
            "_dom_classes": [],
            "_model_module": "@jupyter-widgets/controls",
            "_model_module_version": "1.5.0",
            "_model_name": "HTMLModel",
            "_view_count": null,
            "_view_module": "@jupyter-widgets/controls",
            "_view_module_version": "1.5.0",
            "_view_name": "HTMLView",
            "description": "",
            "description_tooltip": null,
            "layout": "IPY_MODEL_423a117127c44103946a514baa0fe0c1",
            "placeholder": "​",
            "style": "IPY_MODEL_99919fcebd08487cb961c30457dc8949",
            "value": "100%"
          }
        },
        "6d9b28e3215e40b8bc7944da55aba2dc": {
          "model_module": "@jupyter-widgets/controls",
          "model_name": "FloatProgressModel",
          "model_module_version": "1.5.0",
          "state": {
            "_dom_classes": [],
            "_model_module": "@jupyter-widgets/controls",
            "_model_module_version": "1.5.0",
            "_model_name": "FloatProgressModel",
            "_view_count": null,
            "_view_module": "@jupyter-widgets/controls",
            "_view_module_version": "1.5.0",
            "_view_name": "ProgressView",
            "bar_style": "success",
            "description": "",
            "description_tooltip": null,
            "layout": "IPY_MODEL_0660fbd217bc4a819da350f32eff897f",
            "max": 313,
            "min": 0,
            "orientation": "horizontal",
            "style": "IPY_MODEL_2b49740b286848f18057d57c0322e9ac",
            "value": 313
          }
        },
        "0f706ae0e0464c95ac57296469e182e0": {
          "model_module": "@jupyter-widgets/controls",
          "model_name": "HTMLModel",
          "model_module_version": "1.5.0",
          "state": {
            "_dom_classes": [],
            "_model_module": "@jupyter-widgets/controls",
            "_model_module_version": "1.5.0",
            "_model_name": "HTMLModel",
            "_view_count": null,
            "_view_module": "@jupyter-widgets/controls",
            "_view_module_version": "1.5.0",
            "_view_name": "HTMLView",
            "description": "",
            "description_tooltip": null,
            "layout": "IPY_MODEL_03870f31d8a747489e403c26d4642bf1",
            "placeholder": "​",
            "style": "IPY_MODEL_ae288522dd654bd4a5fce0c175b3fbdd",
            "value": " 313/313 [00:00&lt;00:00, 1703.52it/s]"
          }
        },
        "9a13da386c9549e6b84db7c8ed94085b": {
          "model_module": "@jupyter-widgets/base",
          "model_name": "LayoutModel",
          "model_module_version": "1.2.0",
          "state": {
            "_model_module": "@jupyter-widgets/base",
            "_model_module_version": "1.2.0",
            "_model_name": "LayoutModel",
            "_view_count": null,
            "_view_module": "@jupyter-widgets/base",
            "_view_module_version": "1.2.0",
            "_view_name": "LayoutView",
            "align_content": null,
            "align_items": null,
            "align_self": null,
            "border": null,
            "bottom": null,
            "display": null,
            "flex": null,
            "flex_flow": null,
            "grid_area": null,
            "grid_auto_columns": null,
            "grid_auto_flow": null,
            "grid_auto_rows": null,
            "grid_column": null,
            "grid_gap": null,
            "grid_row": null,
            "grid_template_areas": null,
            "grid_template_columns": null,
            "grid_template_rows": null,
            "height": null,
            "justify_content": null,
            "justify_items": null,
            "left": null,
            "margin": null,
            "max_height": null,
            "max_width": null,
            "min_height": null,
            "min_width": null,
            "object_fit": null,
            "object_position": null,
            "order": null,
            "overflow": null,
            "overflow_x": null,
            "overflow_y": null,
            "padding": null,
            "right": null,
            "top": null,
            "visibility": null,
            "width": null
          }
        },
        "423a117127c44103946a514baa0fe0c1": {
          "model_module": "@jupyter-widgets/base",
          "model_name": "LayoutModel",
          "model_module_version": "1.2.0",
          "state": {
            "_model_module": "@jupyter-widgets/base",
            "_model_module_version": "1.2.0",
            "_model_name": "LayoutModel",
            "_view_count": null,
            "_view_module": "@jupyter-widgets/base",
            "_view_module_version": "1.2.0",
            "_view_name": "LayoutView",
            "align_content": null,
            "align_items": null,
            "align_self": null,
            "border": null,
            "bottom": null,
            "display": null,
            "flex": null,
            "flex_flow": null,
            "grid_area": null,
            "grid_auto_columns": null,
            "grid_auto_flow": null,
            "grid_auto_rows": null,
            "grid_column": null,
            "grid_gap": null,
            "grid_row": null,
            "grid_template_areas": null,
            "grid_template_columns": null,
            "grid_template_rows": null,
            "height": null,
            "justify_content": null,
            "justify_items": null,
            "left": null,
            "margin": null,
            "max_height": null,
            "max_width": null,
            "min_height": null,
            "min_width": null,
            "object_fit": null,
            "object_position": null,
            "order": null,
            "overflow": null,
            "overflow_x": null,
            "overflow_y": null,
            "padding": null,
            "right": null,
            "top": null,
            "visibility": null,
            "width": null
          }
        },
        "99919fcebd08487cb961c30457dc8949": {
          "model_module": "@jupyter-widgets/controls",
          "model_name": "DescriptionStyleModel",
          "model_module_version": "1.5.0",
          "state": {
            "_model_module": "@jupyter-widgets/controls",
            "_model_module_version": "1.5.0",
            "_model_name": "DescriptionStyleModel",
            "_view_count": null,
            "_view_module": "@jupyter-widgets/base",
            "_view_module_version": "1.2.0",
            "_view_name": "StyleView",
            "description_width": ""
          }
        },
        "0660fbd217bc4a819da350f32eff897f": {
          "model_module": "@jupyter-widgets/base",
          "model_name": "LayoutModel",
          "model_module_version": "1.2.0",
          "state": {
            "_model_module": "@jupyter-widgets/base",
            "_model_module_version": "1.2.0",
            "_model_name": "LayoutModel",
            "_view_count": null,
            "_view_module": "@jupyter-widgets/base",
            "_view_module_version": "1.2.0",
            "_view_name": "LayoutView",
            "align_content": null,
            "align_items": null,
            "align_self": null,
            "border": null,
            "bottom": null,
            "display": null,
            "flex": null,
            "flex_flow": null,
            "grid_area": null,
            "grid_auto_columns": null,
            "grid_auto_flow": null,
            "grid_auto_rows": null,
            "grid_column": null,
            "grid_gap": null,
            "grid_row": null,
            "grid_template_areas": null,
            "grid_template_columns": null,
            "grid_template_rows": null,
            "height": null,
            "justify_content": null,
            "justify_items": null,
            "left": null,
            "margin": null,
            "max_height": null,
            "max_width": null,
            "min_height": null,
            "min_width": null,
            "object_fit": null,
            "object_position": null,
            "order": null,
            "overflow": null,
            "overflow_x": null,
            "overflow_y": null,
            "padding": null,
            "right": null,
            "top": null,
            "visibility": null,
            "width": null
          }
        },
        "2b49740b286848f18057d57c0322e9ac": {
          "model_module": "@jupyter-widgets/controls",
          "model_name": "ProgressStyleModel",
          "model_module_version": "1.5.0",
          "state": {
            "_model_module": "@jupyter-widgets/controls",
            "_model_module_version": "1.5.0",
            "_model_name": "ProgressStyleModel",
            "_view_count": null,
            "_view_module": "@jupyter-widgets/base",
            "_view_module_version": "1.2.0",
            "_view_name": "StyleView",
            "bar_color": null,
            "description_width": ""
          }
        },
        "03870f31d8a747489e403c26d4642bf1": {
          "model_module": "@jupyter-widgets/base",
          "model_name": "LayoutModel",
          "model_module_version": "1.2.0",
          "state": {
            "_model_module": "@jupyter-widgets/base",
            "_model_module_version": "1.2.0",
            "_model_name": "LayoutModel",
            "_view_count": null,
            "_view_module": "@jupyter-widgets/base",
            "_view_module_version": "1.2.0",
            "_view_name": "LayoutView",
            "align_content": null,
            "align_items": null,
            "align_self": null,
            "border": null,
            "bottom": null,
            "display": null,
            "flex": null,
            "flex_flow": null,
            "grid_area": null,
            "grid_auto_columns": null,
            "grid_auto_flow": null,
            "grid_auto_rows": null,
            "grid_column": null,
            "grid_gap": null,
            "grid_row": null,
            "grid_template_areas": null,
            "grid_template_columns": null,
            "grid_template_rows": null,
            "height": null,
            "justify_content": null,
            "justify_items": null,
            "left": null,
            "margin": null,
            "max_height": null,
            "max_width": null,
            "min_height": null,
            "min_width": null,
            "object_fit": null,
            "object_position": null,
            "order": null,
            "overflow": null,
            "overflow_x": null,
            "overflow_y": null,
            "padding": null,
            "right": null,
            "top": null,
            "visibility": null,
            "width": null
          }
        },
        "ae288522dd654bd4a5fce0c175b3fbdd": {
          "model_module": "@jupyter-widgets/controls",
          "model_name": "DescriptionStyleModel",
          "model_module_version": "1.5.0",
          "state": {
            "_model_module": "@jupyter-widgets/controls",
            "_model_module_version": "1.5.0",
            "_model_name": "DescriptionStyleModel",
            "_view_count": null,
            "_view_module": "@jupyter-widgets/base",
            "_view_module_version": "1.2.0",
            "_view_name": "StyleView",
            "description_width": ""
          }
        },
        "00f64582a17b43298a9b7d4ce41c657b": {
          "model_module": "@jupyter-widgets/controls",
          "model_name": "HBoxModel",
          "model_module_version": "1.5.0",
          "state": {
            "_dom_classes": [],
            "_model_module": "@jupyter-widgets/controls",
            "_model_module_version": "1.5.0",
            "_model_name": "HBoxModel",
            "_view_count": null,
            "_view_module": "@jupyter-widgets/controls",
            "_view_module_version": "1.5.0",
            "_view_name": "HBoxView",
            "box_style": "",
            "children": [
              "IPY_MODEL_1c3c05e1276c4b17abaa7ae3781d7272",
              "IPY_MODEL_c51084d46d0c4671805ad28958afa7ae",
              "IPY_MODEL_00631dc33ff5427ba05a6ad7c4feaf5a"
            ],
            "layout": "IPY_MODEL_aae80f2454c747f689625f943c2f1dde"
          }
        },
        "1c3c05e1276c4b17abaa7ae3781d7272": {
          "model_module": "@jupyter-widgets/controls",
          "model_name": "HTMLModel",
          "model_module_version": "1.5.0",
          "state": {
            "_dom_classes": [],
            "_model_module": "@jupyter-widgets/controls",
            "_model_module_version": "1.5.0",
            "_model_name": "HTMLModel",
            "_view_count": null,
            "_view_module": "@jupyter-widgets/controls",
            "_view_module_version": "1.5.0",
            "_view_name": "HTMLView",
            "description": "",
            "description_tooltip": null,
            "layout": "IPY_MODEL_94c1a54750d84741b95c6165d223ccca",
            "placeholder": "​",
            "style": "IPY_MODEL_12c77803acd647b494128c83f71402df",
            "value": "100%"
          }
        },
        "c51084d46d0c4671805ad28958afa7ae": {
          "model_module": "@jupyter-widgets/controls",
          "model_name": "FloatProgressModel",
          "model_module_version": "1.5.0",
          "state": {
            "_dom_classes": [],
            "_model_module": "@jupyter-widgets/controls",
            "_model_module_version": "1.5.0",
            "_model_name": "FloatProgressModel",
            "_view_count": null,
            "_view_module": "@jupyter-widgets/controls",
            "_view_module_version": "1.5.0",
            "_view_name": "ProgressView",
            "bar_style": "success",
            "description": "",
            "description_tooltip": null,
            "layout": "IPY_MODEL_9318a6738e834a0690b12f26e0e2e28f",
            "max": 3,
            "min": 0,
            "orientation": "horizontal",
            "style": "IPY_MODEL_634fdc1dfa8642368a8097efd0d9c731",
            "value": 3
          }
        },
        "00631dc33ff5427ba05a6ad7c4feaf5a": {
          "model_module": "@jupyter-widgets/controls",
          "model_name": "HTMLModel",
          "model_module_version": "1.5.0",
          "state": {
            "_dom_classes": [],
            "_model_module": "@jupyter-widgets/controls",
            "_model_module_version": "1.5.0",
            "_model_name": "HTMLModel",
            "_view_count": null,
            "_view_module": "@jupyter-widgets/controls",
            "_view_module_version": "1.5.0",
            "_view_name": "HTMLView",
            "description": "",
            "description_tooltip": null,
            "layout": "IPY_MODEL_f52a5022b23c4cdc9643ea5bc4adca74",
            "placeholder": "​",
            "style": "IPY_MODEL_60ac0f4bec0a4b9f95b1276c4db074ba",
            "value": " 3/3 [00:11&lt;00:00,  3.63s/it]"
          }
        },
        "aae80f2454c747f689625f943c2f1dde": {
          "model_module": "@jupyter-widgets/base",
          "model_name": "LayoutModel",
          "model_module_version": "1.2.0",
          "state": {
            "_model_module": "@jupyter-widgets/base",
            "_model_module_version": "1.2.0",
            "_model_name": "LayoutModel",
            "_view_count": null,
            "_view_module": "@jupyter-widgets/base",
            "_view_module_version": "1.2.0",
            "_view_name": "LayoutView",
            "align_content": null,
            "align_items": null,
            "align_self": null,
            "border": null,
            "bottom": null,
            "display": null,
            "flex": null,
            "flex_flow": null,
            "grid_area": null,
            "grid_auto_columns": null,
            "grid_auto_flow": null,
            "grid_auto_rows": null,
            "grid_column": null,
            "grid_gap": null,
            "grid_row": null,
            "grid_template_areas": null,
            "grid_template_columns": null,
            "grid_template_rows": null,
            "height": null,
            "justify_content": null,
            "justify_items": null,
            "left": null,
            "margin": null,
            "max_height": null,
            "max_width": null,
            "min_height": null,
            "min_width": null,
            "object_fit": null,
            "object_position": null,
            "order": null,
            "overflow": null,
            "overflow_x": null,
            "overflow_y": null,
            "padding": null,
            "right": null,
            "top": null,
            "visibility": null,
            "width": null
          }
        },
        "94c1a54750d84741b95c6165d223ccca": {
          "model_module": "@jupyter-widgets/base",
          "model_name": "LayoutModel",
          "model_module_version": "1.2.0",
          "state": {
            "_model_module": "@jupyter-widgets/base",
            "_model_module_version": "1.2.0",
            "_model_name": "LayoutModel",
            "_view_count": null,
            "_view_module": "@jupyter-widgets/base",
            "_view_module_version": "1.2.0",
            "_view_name": "LayoutView",
            "align_content": null,
            "align_items": null,
            "align_self": null,
            "border": null,
            "bottom": null,
            "display": null,
            "flex": null,
            "flex_flow": null,
            "grid_area": null,
            "grid_auto_columns": null,
            "grid_auto_flow": null,
            "grid_auto_rows": null,
            "grid_column": null,
            "grid_gap": null,
            "grid_row": null,
            "grid_template_areas": null,
            "grid_template_columns": null,
            "grid_template_rows": null,
            "height": null,
            "justify_content": null,
            "justify_items": null,
            "left": null,
            "margin": null,
            "max_height": null,
            "max_width": null,
            "min_height": null,
            "min_width": null,
            "object_fit": null,
            "object_position": null,
            "order": null,
            "overflow": null,
            "overflow_x": null,
            "overflow_y": null,
            "padding": null,
            "right": null,
            "top": null,
            "visibility": null,
            "width": null
          }
        },
        "12c77803acd647b494128c83f71402df": {
          "model_module": "@jupyter-widgets/controls",
          "model_name": "DescriptionStyleModel",
          "model_module_version": "1.5.0",
          "state": {
            "_model_module": "@jupyter-widgets/controls",
            "_model_module_version": "1.5.0",
            "_model_name": "DescriptionStyleModel",
            "_view_count": null,
            "_view_module": "@jupyter-widgets/base",
            "_view_module_version": "1.2.0",
            "_view_name": "StyleView",
            "description_width": ""
          }
        },
        "9318a6738e834a0690b12f26e0e2e28f": {
          "model_module": "@jupyter-widgets/base",
          "model_name": "LayoutModel",
          "model_module_version": "1.2.0",
          "state": {
            "_model_module": "@jupyter-widgets/base",
            "_model_module_version": "1.2.0",
            "_model_name": "LayoutModel",
            "_view_count": null,
            "_view_module": "@jupyter-widgets/base",
            "_view_module_version": "1.2.0",
            "_view_name": "LayoutView",
            "align_content": null,
            "align_items": null,
            "align_self": null,
            "border": null,
            "bottom": null,
            "display": null,
            "flex": null,
            "flex_flow": null,
            "grid_area": null,
            "grid_auto_columns": null,
            "grid_auto_flow": null,
            "grid_auto_rows": null,
            "grid_column": null,
            "grid_gap": null,
            "grid_row": null,
            "grid_template_areas": null,
            "grid_template_columns": null,
            "grid_template_rows": null,
            "height": null,
            "justify_content": null,
            "justify_items": null,
            "left": null,
            "margin": null,
            "max_height": null,
            "max_width": null,
            "min_height": null,
            "min_width": null,
            "object_fit": null,
            "object_position": null,
            "order": null,
            "overflow": null,
            "overflow_x": null,
            "overflow_y": null,
            "padding": null,
            "right": null,
            "top": null,
            "visibility": null,
            "width": null
          }
        },
        "634fdc1dfa8642368a8097efd0d9c731": {
          "model_module": "@jupyter-widgets/controls",
          "model_name": "ProgressStyleModel",
          "model_module_version": "1.5.0",
          "state": {
            "_model_module": "@jupyter-widgets/controls",
            "_model_module_version": "1.5.0",
            "_model_name": "ProgressStyleModel",
            "_view_count": null,
            "_view_module": "@jupyter-widgets/base",
            "_view_module_version": "1.2.0",
            "_view_name": "StyleView",
            "bar_color": null,
            "description_width": ""
          }
        },
        "f52a5022b23c4cdc9643ea5bc4adca74": {
          "model_module": "@jupyter-widgets/base",
          "model_name": "LayoutModel",
          "model_module_version": "1.2.0",
          "state": {
            "_model_module": "@jupyter-widgets/base",
            "_model_module_version": "1.2.0",
            "_model_name": "LayoutModel",
            "_view_count": null,
            "_view_module": "@jupyter-widgets/base",
            "_view_module_version": "1.2.0",
            "_view_name": "LayoutView",
            "align_content": null,
            "align_items": null,
            "align_self": null,
            "border": null,
            "bottom": null,
            "display": null,
            "flex": null,
            "flex_flow": null,
            "grid_area": null,
            "grid_auto_columns": null,
            "grid_auto_flow": null,
            "grid_auto_rows": null,
            "grid_column": null,
            "grid_gap": null,
            "grid_row": null,
            "grid_template_areas": null,
            "grid_template_columns": null,
            "grid_template_rows": null,
            "height": null,
            "justify_content": null,
            "justify_items": null,
            "left": null,
            "margin": null,
            "max_height": null,
            "max_width": null,
            "min_height": null,
            "min_width": null,
            "object_fit": null,
            "object_position": null,
            "order": null,
            "overflow": null,
            "overflow_x": null,
            "overflow_y": null,
            "padding": null,
            "right": null,
            "top": null,
            "visibility": null,
            "width": null
          }
        },
        "60ac0f4bec0a4b9f95b1276c4db074ba": {
          "model_module": "@jupyter-widgets/controls",
          "model_name": "DescriptionStyleModel",
          "model_module_version": "1.5.0",
          "state": {
            "_model_module": "@jupyter-widgets/controls",
            "_model_module_version": "1.5.0",
            "_model_name": "DescriptionStyleModel",
            "_view_count": null,
            "_view_module": "@jupyter-widgets/base",
            "_view_module_version": "1.2.0",
            "_view_name": "StyleView",
            "description_width": ""
          }
        },
        "008b518c58764652811917746da2f96e": {
          "model_module": "@jupyter-widgets/controls",
          "model_name": "HBoxModel",
          "model_module_version": "1.5.0",
          "state": {
            "_dom_classes": [],
            "_model_module": "@jupyter-widgets/controls",
            "_model_module_version": "1.5.0",
            "_model_name": "HBoxModel",
            "_view_count": null,
            "_view_module": "@jupyter-widgets/controls",
            "_view_module_version": "1.5.0",
            "_view_name": "HBoxView",
            "box_style": "",
            "children": [
              "IPY_MODEL_3c2482bbd9a9476b8fd01cfd377e6f85",
              "IPY_MODEL_277445aa71f841848012529b3ed15675",
              "IPY_MODEL_63da8bfeb6cd4ee8a96d34894a3fe771"
            ],
            "layout": "IPY_MODEL_7cc9e4ec5f0945429a4415f172da4ec1"
          }
        },
        "3c2482bbd9a9476b8fd01cfd377e6f85": {
          "model_module": "@jupyter-widgets/controls",
          "model_name": "HTMLModel",
          "model_module_version": "1.5.0",
          "state": {
            "_dom_classes": [],
            "_model_module": "@jupyter-widgets/controls",
            "_model_module_version": "1.5.0",
            "_model_name": "HTMLModel",
            "_view_count": null,
            "_view_module": "@jupyter-widgets/controls",
            "_view_module_version": "1.5.0",
            "_view_name": "HTMLView",
            "description": "",
            "description_tooltip": null,
            "layout": "IPY_MODEL_5d27fcbcc61b48e8b95aa7ca680ba101",
            "placeholder": "​",
            "style": "IPY_MODEL_5bfc2ae7b5b64a3d95dbe3a3292a097d",
            "value": "100%"
          }
        },
        "277445aa71f841848012529b3ed15675": {
          "model_module": "@jupyter-widgets/controls",
          "model_name": "FloatProgressModel",
          "model_module_version": "1.5.0",
          "state": {
            "_dom_classes": [],
            "_model_module": "@jupyter-widgets/controls",
            "_model_module_version": "1.5.0",
            "_model_name": "FloatProgressModel",
            "_view_count": null,
            "_view_module": "@jupyter-widgets/controls",
            "_view_module_version": "1.5.0",
            "_view_name": "ProgressView",
            "bar_style": "success",
            "description": "",
            "description_tooltip": null,
            "layout": "IPY_MODEL_6150547e76e84b6db901ef28894f7277",
            "max": 3,
            "min": 0,
            "orientation": "horizontal",
            "style": "IPY_MODEL_d81d11fee75948d2b373270be381b288",
            "value": 3
          }
        },
        "63da8bfeb6cd4ee8a96d34894a3fe771": {
          "model_module": "@jupyter-widgets/controls",
          "model_name": "HTMLModel",
          "model_module_version": "1.5.0",
          "state": {
            "_dom_classes": [],
            "_model_module": "@jupyter-widgets/controls",
            "_model_module_version": "1.5.0",
            "_model_name": "HTMLModel",
            "_view_count": null,
            "_view_module": "@jupyter-widgets/controls",
            "_view_module_version": "1.5.0",
            "_view_name": "HTMLView",
            "description": "",
            "description_tooltip": null,
            "layout": "IPY_MODEL_44ecce75f9be4ffab2ef3fbc9a45842d",
            "placeholder": "​",
            "style": "IPY_MODEL_5b4d9e9fe09a4938a68d6e70b38d231b",
            "value": " 3/3 [00:00&lt;00:00,  7.43it/s]"
          }
        },
        "7cc9e4ec5f0945429a4415f172da4ec1": {
          "model_module": "@jupyter-widgets/base",
          "model_name": "LayoutModel",
          "model_module_version": "1.2.0",
          "state": {
            "_model_module": "@jupyter-widgets/base",
            "_model_module_version": "1.2.0",
            "_model_name": "LayoutModel",
            "_view_count": null,
            "_view_module": "@jupyter-widgets/base",
            "_view_module_version": "1.2.0",
            "_view_name": "LayoutView",
            "align_content": null,
            "align_items": null,
            "align_self": null,
            "border": null,
            "bottom": null,
            "display": null,
            "flex": null,
            "flex_flow": null,
            "grid_area": null,
            "grid_auto_columns": null,
            "grid_auto_flow": null,
            "grid_auto_rows": null,
            "grid_column": null,
            "grid_gap": null,
            "grid_row": null,
            "grid_template_areas": null,
            "grid_template_columns": null,
            "grid_template_rows": null,
            "height": null,
            "justify_content": null,
            "justify_items": null,
            "left": null,
            "margin": null,
            "max_height": null,
            "max_width": null,
            "min_height": null,
            "min_width": null,
            "object_fit": null,
            "object_position": null,
            "order": null,
            "overflow": null,
            "overflow_x": null,
            "overflow_y": null,
            "padding": null,
            "right": null,
            "top": null,
            "visibility": null,
            "width": null
          }
        },
        "5d27fcbcc61b48e8b95aa7ca680ba101": {
          "model_module": "@jupyter-widgets/base",
          "model_name": "LayoutModel",
          "model_module_version": "1.2.0",
          "state": {
            "_model_module": "@jupyter-widgets/base",
            "_model_module_version": "1.2.0",
            "_model_name": "LayoutModel",
            "_view_count": null,
            "_view_module": "@jupyter-widgets/base",
            "_view_module_version": "1.2.0",
            "_view_name": "LayoutView",
            "align_content": null,
            "align_items": null,
            "align_self": null,
            "border": null,
            "bottom": null,
            "display": null,
            "flex": null,
            "flex_flow": null,
            "grid_area": null,
            "grid_auto_columns": null,
            "grid_auto_flow": null,
            "grid_auto_rows": null,
            "grid_column": null,
            "grid_gap": null,
            "grid_row": null,
            "grid_template_areas": null,
            "grid_template_columns": null,
            "grid_template_rows": null,
            "height": null,
            "justify_content": null,
            "justify_items": null,
            "left": null,
            "margin": null,
            "max_height": null,
            "max_width": null,
            "min_height": null,
            "min_width": null,
            "object_fit": null,
            "object_position": null,
            "order": null,
            "overflow": null,
            "overflow_x": null,
            "overflow_y": null,
            "padding": null,
            "right": null,
            "top": null,
            "visibility": null,
            "width": null
          }
        },
        "5bfc2ae7b5b64a3d95dbe3a3292a097d": {
          "model_module": "@jupyter-widgets/controls",
          "model_name": "DescriptionStyleModel",
          "model_module_version": "1.5.0",
          "state": {
            "_model_module": "@jupyter-widgets/controls",
            "_model_module_version": "1.5.0",
            "_model_name": "DescriptionStyleModel",
            "_view_count": null,
            "_view_module": "@jupyter-widgets/base",
            "_view_module_version": "1.2.0",
            "_view_name": "StyleView",
            "description_width": ""
          }
        },
        "6150547e76e84b6db901ef28894f7277": {
          "model_module": "@jupyter-widgets/base",
          "model_name": "LayoutModel",
          "model_module_version": "1.2.0",
          "state": {
            "_model_module": "@jupyter-widgets/base",
            "_model_module_version": "1.2.0",
            "_model_name": "LayoutModel",
            "_view_count": null,
            "_view_module": "@jupyter-widgets/base",
            "_view_module_version": "1.2.0",
            "_view_name": "LayoutView",
            "align_content": null,
            "align_items": null,
            "align_self": null,
            "border": null,
            "bottom": null,
            "display": null,
            "flex": null,
            "flex_flow": null,
            "grid_area": null,
            "grid_auto_columns": null,
            "grid_auto_flow": null,
            "grid_auto_rows": null,
            "grid_column": null,
            "grid_gap": null,
            "grid_row": null,
            "grid_template_areas": null,
            "grid_template_columns": null,
            "grid_template_rows": null,
            "height": null,
            "justify_content": null,
            "justify_items": null,
            "left": null,
            "margin": null,
            "max_height": null,
            "max_width": null,
            "min_height": null,
            "min_width": null,
            "object_fit": null,
            "object_position": null,
            "order": null,
            "overflow": null,
            "overflow_x": null,
            "overflow_y": null,
            "padding": null,
            "right": null,
            "top": null,
            "visibility": null,
            "width": null
          }
        },
        "d81d11fee75948d2b373270be381b288": {
          "model_module": "@jupyter-widgets/controls",
          "model_name": "ProgressStyleModel",
          "model_module_version": "1.5.0",
          "state": {
            "_model_module": "@jupyter-widgets/controls",
            "_model_module_version": "1.5.0",
            "_model_name": "ProgressStyleModel",
            "_view_count": null,
            "_view_module": "@jupyter-widgets/base",
            "_view_module_version": "1.2.0",
            "_view_name": "StyleView",
            "bar_color": null,
            "description_width": ""
          }
        },
        "44ecce75f9be4ffab2ef3fbc9a45842d": {
          "model_module": "@jupyter-widgets/base",
          "model_name": "LayoutModel",
          "model_module_version": "1.2.0",
          "state": {
            "_model_module": "@jupyter-widgets/base",
            "_model_module_version": "1.2.0",
            "_model_name": "LayoutModel",
            "_view_count": null,
            "_view_module": "@jupyter-widgets/base",
            "_view_module_version": "1.2.0",
            "_view_name": "LayoutView",
            "align_content": null,
            "align_items": null,
            "align_self": null,
            "border": null,
            "bottom": null,
            "display": null,
            "flex": null,
            "flex_flow": null,
            "grid_area": null,
            "grid_auto_columns": null,
            "grid_auto_flow": null,
            "grid_auto_rows": null,
            "grid_column": null,
            "grid_gap": null,
            "grid_row": null,
            "grid_template_areas": null,
            "grid_template_columns": null,
            "grid_template_rows": null,
            "height": null,
            "justify_content": null,
            "justify_items": null,
            "left": null,
            "margin": null,
            "max_height": null,
            "max_width": null,
            "min_height": null,
            "min_width": null,
            "object_fit": null,
            "object_position": null,
            "order": null,
            "overflow": null,
            "overflow_x": null,
            "overflow_y": null,
            "padding": null,
            "right": null,
            "top": null,
            "visibility": null,
            "width": null
          }
        },
        "5b4d9e9fe09a4938a68d6e70b38d231b": {
          "model_module": "@jupyter-widgets/controls",
          "model_name": "DescriptionStyleModel",
          "model_module_version": "1.5.0",
          "state": {
            "_model_module": "@jupyter-widgets/controls",
            "_model_module_version": "1.5.0",
            "_model_name": "DescriptionStyleModel",
            "_view_count": null,
            "_view_module": "@jupyter-widgets/base",
            "_view_module_version": "1.2.0",
            "_view_name": "StyleView",
            "description_width": ""
          }
        },
        "4550c91adee042c39c7a13322b96d731": {
          "model_module": "@jupyter-widgets/controls",
          "model_name": "HBoxModel",
          "model_module_version": "1.5.0",
          "state": {
            "_dom_classes": [],
            "_model_module": "@jupyter-widgets/controls",
            "_model_module_version": "1.5.0",
            "_model_name": "HBoxModel",
            "_view_count": null,
            "_view_module": "@jupyter-widgets/controls",
            "_view_module_version": "1.5.0",
            "_view_name": "HBoxView",
            "box_style": "",
            "children": [
              "IPY_MODEL_66ac43a4876d48d09f482d024325ffed",
              "IPY_MODEL_c524d91a4b64401da0e8ef1f005941a9",
              "IPY_MODEL_1caa97974349481da01b231baeb313d4"
            ],
            "layout": "IPY_MODEL_e9141b4ae7c14bb6a99a4d959ab0dad1"
          }
        },
        "66ac43a4876d48d09f482d024325ffed": {
          "model_module": "@jupyter-widgets/controls",
          "model_name": "HTMLModel",
          "model_module_version": "1.5.0",
          "state": {
            "_dom_classes": [],
            "_model_module": "@jupyter-widgets/controls",
            "_model_module_version": "1.5.0",
            "_model_name": "HTMLModel",
            "_view_count": null,
            "_view_module": "@jupyter-widgets/controls",
            "_view_module_version": "1.5.0",
            "_view_name": "HTMLView",
            "description": "",
            "description_tooltip": null,
            "layout": "IPY_MODEL_46321d115872431989d350b42eae9362",
            "placeholder": "​",
            "style": "IPY_MODEL_59aad38833ff4b2a807724fc50d88f90",
            "value": "100%"
          }
        },
        "c524d91a4b64401da0e8ef1f005941a9": {
          "model_module": "@jupyter-widgets/controls",
          "model_name": "FloatProgressModel",
          "model_module_version": "1.5.0",
          "state": {
            "_dom_classes": [],
            "_model_module": "@jupyter-widgets/controls",
            "_model_module_version": "1.5.0",
            "_model_name": "FloatProgressModel",
            "_view_count": null,
            "_view_module": "@jupyter-widgets/controls",
            "_view_module_version": "1.5.0",
            "_view_name": "ProgressView",
            "bar_style": "success",
            "description": "",
            "description_tooltip": null,
            "layout": "IPY_MODEL_1efc76e98f9943c6a21937013a863501",
            "max": 1875,
            "min": 0,
            "orientation": "horizontal",
            "style": "IPY_MODEL_7804d638b55f4d9aaadd0d46d698336f",
            "value": 1875
          }
        },
        "1caa97974349481da01b231baeb313d4": {
          "model_module": "@jupyter-widgets/controls",
          "model_name": "HTMLModel",
          "model_module_version": "1.5.0",
          "state": {
            "_dom_classes": [],
            "_model_module": "@jupyter-widgets/controls",
            "_model_module_version": "1.5.0",
            "_model_name": "HTMLModel",
            "_view_count": null,
            "_view_module": "@jupyter-widgets/controls",
            "_view_module_version": "1.5.0",
            "_view_name": "HTMLView",
            "description": "",
            "description_tooltip": null,
            "layout": "IPY_MODEL_6e8db37965ee4eccbd6a18e5fbf8fc32",
            "placeholder": "​",
            "style": "IPY_MODEL_134406be93e04c28b0600631bf025317",
            "value": " 1875/1875 [00:00&lt;00:00, 2725.78it/s]"
          }
        },
        "e9141b4ae7c14bb6a99a4d959ab0dad1": {
          "model_module": "@jupyter-widgets/base",
          "model_name": "LayoutModel",
          "model_module_version": "1.2.0",
          "state": {
            "_model_module": "@jupyter-widgets/base",
            "_model_module_version": "1.2.0",
            "_model_name": "LayoutModel",
            "_view_count": null,
            "_view_module": "@jupyter-widgets/base",
            "_view_module_version": "1.2.0",
            "_view_name": "LayoutView",
            "align_content": null,
            "align_items": null,
            "align_self": null,
            "border": null,
            "bottom": null,
            "display": null,
            "flex": null,
            "flex_flow": null,
            "grid_area": null,
            "grid_auto_columns": null,
            "grid_auto_flow": null,
            "grid_auto_rows": null,
            "grid_column": null,
            "grid_gap": null,
            "grid_row": null,
            "grid_template_areas": null,
            "grid_template_columns": null,
            "grid_template_rows": null,
            "height": null,
            "justify_content": null,
            "justify_items": null,
            "left": null,
            "margin": null,
            "max_height": null,
            "max_width": null,
            "min_height": null,
            "min_width": null,
            "object_fit": null,
            "object_position": null,
            "order": null,
            "overflow": null,
            "overflow_x": null,
            "overflow_y": null,
            "padding": null,
            "right": null,
            "top": null,
            "visibility": null,
            "width": null
          }
        },
        "46321d115872431989d350b42eae9362": {
          "model_module": "@jupyter-widgets/base",
          "model_name": "LayoutModel",
          "model_module_version": "1.2.0",
          "state": {
            "_model_module": "@jupyter-widgets/base",
            "_model_module_version": "1.2.0",
            "_model_name": "LayoutModel",
            "_view_count": null,
            "_view_module": "@jupyter-widgets/base",
            "_view_module_version": "1.2.0",
            "_view_name": "LayoutView",
            "align_content": null,
            "align_items": null,
            "align_self": null,
            "border": null,
            "bottom": null,
            "display": null,
            "flex": null,
            "flex_flow": null,
            "grid_area": null,
            "grid_auto_columns": null,
            "grid_auto_flow": null,
            "grid_auto_rows": null,
            "grid_column": null,
            "grid_gap": null,
            "grid_row": null,
            "grid_template_areas": null,
            "grid_template_columns": null,
            "grid_template_rows": null,
            "height": null,
            "justify_content": null,
            "justify_items": null,
            "left": null,
            "margin": null,
            "max_height": null,
            "max_width": null,
            "min_height": null,
            "min_width": null,
            "object_fit": null,
            "object_position": null,
            "order": null,
            "overflow": null,
            "overflow_x": null,
            "overflow_y": null,
            "padding": null,
            "right": null,
            "top": null,
            "visibility": null,
            "width": null
          }
        },
        "59aad38833ff4b2a807724fc50d88f90": {
          "model_module": "@jupyter-widgets/controls",
          "model_name": "DescriptionStyleModel",
          "model_module_version": "1.5.0",
          "state": {
            "_model_module": "@jupyter-widgets/controls",
            "_model_module_version": "1.5.0",
            "_model_name": "DescriptionStyleModel",
            "_view_count": null,
            "_view_module": "@jupyter-widgets/base",
            "_view_module_version": "1.2.0",
            "_view_name": "StyleView",
            "description_width": ""
          }
        },
        "1efc76e98f9943c6a21937013a863501": {
          "model_module": "@jupyter-widgets/base",
          "model_name": "LayoutModel",
          "model_module_version": "1.2.0",
          "state": {
            "_model_module": "@jupyter-widgets/base",
            "_model_module_version": "1.2.0",
            "_model_name": "LayoutModel",
            "_view_count": null,
            "_view_module": "@jupyter-widgets/base",
            "_view_module_version": "1.2.0",
            "_view_name": "LayoutView",
            "align_content": null,
            "align_items": null,
            "align_self": null,
            "border": null,
            "bottom": null,
            "display": null,
            "flex": null,
            "flex_flow": null,
            "grid_area": null,
            "grid_auto_columns": null,
            "grid_auto_flow": null,
            "grid_auto_rows": null,
            "grid_column": null,
            "grid_gap": null,
            "grid_row": null,
            "grid_template_areas": null,
            "grid_template_columns": null,
            "grid_template_rows": null,
            "height": null,
            "justify_content": null,
            "justify_items": null,
            "left": null,
            "margin": null,
            "max_height": null,
            "max_width": null,
            "min_height": null,
            "min_width": null,
            "object_fit": null,
            "object_position": null,
            "order": null,
            "overflow": null,
            "overflow_x": null,
            "overflow_y": null,
            "padding": null,
            "right": null,
            "top": null,
            "visibility": null,
            "width": null
          }
        },
        "7804d638b55f4d9aaadd0d46d698336f": {
          "model_module": "@jupyter-widgets/controls",
          "model_name": "ProgressStyleModel",
          "model_module_version": "1.5.0",
          "state": {
            "_model_module": "@jupyter-widgets/controls",
            "_model_module_version": "1.5.0",
            "_model_name": "ProgressStyleModel",
            "_view_count": null,
            "_view_module": "@jupyter-widgets/base",
            "_view_module_version": "1.2.0",
            "_view_name": "StyleView",
            "bar_color": null,
            "description_width": ""
          }
        },
        "6e8db37965ee4eccbd6a18e5fbf8fc32": {
          "model_module": "@jupyter-widgets/base",
          "model_name": "LayoutModel",
          "model_module_version": "1.2.0",
          "state": {
            "_model_module": "@jupyter-widgets/base",
            "_model_module_version": "1.2.0",
            "_model_name": "LayoutModel",
            "_view_count": null,
            "_view_module": "@jupyter-widgets/base",
            "_view_module_version": "1.2.0",
            "_view_name": "LayoutView",
            "align_content": null,
            "align_items": null,
            "align_self": null,
            "border": null,
            "bottom": null,
            "display": null,
            "flex": null,
            "flex_flow": null,
            "grid_area": null,
            "grid_auto_columns": null,
            "grid_auto_flow": null,
            "grid_auto_rows": null,
            "grid_column": null,
            "grid_gap": null,
            "grid_row": null,
            "grid_template_areas": null,
            "grid_template_columns": null,
            "grid_template_rows": null,
            "height": null,
            "justify_content": null,
            "justify_items": null,
            "left": null,
            "margin": null,
            "max_height": null,
            "max_width": null,
            "min_height": null,
            "min_width": null,
            "object_fit": null,
            "object_position": null,
            "order": null,
            "overflow": null,
            "overflow_x": null,
            "overflow_y": null,
            "padding": null,
            "right": null,
            "top": null,
            "visibility": null,
            "width": null
          }
        },
        "134406be93e04c28b0600631bf025317": {
          "model_module": "@jupyter-widgets/controls",
          "model_name": "DescriptionStyleModel",
          "model_module_version": "1.5.0",
          "state": {
            "_model_module": "@jupyter-widgets/controls",
            "_model_module_version": "1.5.0",
            "_model_name": "DescriptionStyleModel",
            "_view_count": null,
            "_view_module": "@jupyter-widgets/base",
            "_view_module_version": "1.2.0",
            "_view_name": "StyleView",
            "description_width": ""
          }
        },
        "88d9d64f33d2466b824f00bc986a9971": {
          "model_module": "@jupyter-widgets/controls",
          "model_name": "HBoxModel",
          "model_module_version": "1.5.0",
          "state": {
            "_dom_classes": [],
            "_model_module": "@jupyter-widgets/controls",
            "_model_module_version": "1.5.0",
            "_model_name": "HBoxModel",
            "_view_count": null,
            "_view_module": "@jupyter-widgets/controls",
            "_view_module_version": "1.5.0",
            "_view_name": "HBoxView",
            "box_style": "",
            "children": [
              "IPY_MODEL_51b9f2f42f36418f90a65ed4eacf366f",
              "IPY_MODEL_4a5d2657d4204f83a95fec8990beb8ad",
              "IPY_MODEL_e3ffc6bbc5ea47eca9e476baa20602dc"
            ],
            "layout": "IPY_MODEL_defa4ac384d343b6a984256a1049c1b4"
          }
        },
        "51b9f2f42f36418f90a65ed4eacf366f": {
          "model_module": "@jupyter-widgets/controls",
          "model_name": "HTMLModel",
          "model_module_version": "1.5.0",
          "state": {
            "_dom_classes": [],
            "_model_module": "@jupyter-widgets/controls",
            "_model_module_version": "1.5.0",
            "_model_name": "HTMLModel",
            "_view_count": null,
            "_view_module": "@jupyter-widgets/controls",
            "_view_module_version": "1.5.0",
            "_view_name": "HTMLView",
            "description": "",
            "description_tooltip": null,
            "layout": "IPY_MODEL_2cb5ef02082e45a4998e7a1ab9df78f4",
            "placeholder": "​",
            "style": "IPY_MODEL_e0150065bec24f718a5f4f77dd6a4036",
            "value": "100%"
          }
        },
        "4a5d2657d4204f83a95fec8990beb8ad": {
          "model_module": "@jupyter-widgets/controls",
          "model_name": "FloatProgressModel",
          "model_module_version": "1.5.0",
          "state": {
            "_dom_classes": [],
            "_model_module": "@jupyter-widgets/controls",
            "_model_module_version": "1.5.0",
            "_model_name": "FloatProgressModel",
            "_view_count": null,
            "_view_module": "@jupyter-widgets/controls",
            "_view_module_version": "1.5.0",
            "_view_name": "ProgressView",
            "bar_style": "success",
            "description": "",
            "description_tooltip": null,
            "layout": "IPY_MODEL_ef9fb9aee4294046a67696caaad4d508",
            "max": 313,
            "min": 0,
            "orientation": "horizontal",
            "style": "IPY_MODEL_f55ef0be604444879bb5c0f492629d76",
            "value": 313
          }
        },
        "e3ffc6bbc5ea47eca9e476baa20602dc": {
          "model_module": "@jupyter-widgets/controls",
          "model_name": "HTMLModel",
          "model_module_version": "1.5.0",
          "state": {
            "_dom_classes": [],
            "_model_module": "@jupyter-widgets/controls",
            "_model_module_version": "1.5.0",
            "_model_name": "HTMLModel",
            "_view_count": null,
            "_view_module": "@jupyter-widgets/controls",
            "_view_module_version": "1.5.0",
            "_view_name": "HTMLView",
            "description": "",
            "description_tooltip": null,
            "layout": "IPY_MODEL_0d3f3d3eb76640b8a29888977ed7ccd2",
            "placeholder": "​",
            "style": "IPY_MODEL_c5853ab09b014ca58575ec5ee3dfae7d",
            "value": " 313/313 [00:00&lt;00:00, 1726.38it/s]"
          }
        },
        "defa4ac384d343b6a984256a1049c1b4": {
          "model_module": "@jupyter-widgets/base",
          "model_name": "LayoutModel",
          "model_module_version": "1.2.0",
          "state": {
            "_model_module": "@jupyter-widgets/base",
            "_model_module_version": "1.2.0",
            "_model_name": "LayoutModel",
            "_view_count": null,
            "_view_module": "@jupyter-widgets/base",
            "_view_module_version": "1.2.0",
            "_view_name": "LayoutView",
            "align_content": null,
            "align_items": null,
            "align_self": null,
            "border": null,
            "bottom": null,
            "display": null,
            "flex": null,
            "flex_flow": null,
            "grid_area": null,
            "grid_auto_columns": null,
            "grid_auto_flow": null,
            "grid_auto_rows": null,
            "grid_column": null,
            "grid_gap": null,
            "grid_row": null,
            "grid_template_areas": null,
            "grid_template_columns": null,
            "grid_template_rows": null,
            "height": null,
            "justify_content": null,
            "justify_items": null,
            "left": null,
            "margin": null,
            "max_height": null,
            "max_width": null,
            "min_height": null,
            "min_width": null,
            "object_fit": null,
            "object_position": null,
            "order": null,
            "overflow": null,
            "overflow_x": null,
            "overflow_y": null,
            "padding": null,
            "right": null,
            "top": null,
            "visibility": null,
            "width": null
          }
        },
        "2cb5ef02082e45a4998e7a1ab9df78f4": {
          "model_module": "@jupyter-widgets/base",
          "model_name": "LayoutModel",
          "model_module_version": "1.2.0",
          "state": {
            "_model_module": "@jupyter-widgets/base",
            "_model_module_version": "1.2.0",
            "_model_name": "LayoutModel",
            "_view_count": null,
            "_view_module": "@jupyter-widgets/base",
            "_view_module_version": "1.2.0",
            "_view_name": "LayoutView",
            "align_content": null,
            "align_items": null,
            "align_self": null,
            "border": null,
            "bottom": null,
            "display": null,
            "flex": null,
            "flex_flow": null,
            "grid_area": null,
            "grid_auto_columns": null,
            "grid_auto_flow": null,
            "grid_auto_rows": null,
            "grid_column": null,
            "grid_gap": null,
            "grid_row": null,
            "grid_template_areas": null,
            "grid_template_columns": null,
            "grid_template_rows": null,
            "height": null,
            "justify_content": null,
            "justify_items": null,
            "left": null,
            "margin": null,
            "max_height": null,
            "max_width": null,
            "min_height": null,
            "min_width": null,
            "object_fit": null,
            "object_position": null,
            "order": null,
            "overflow": null,
            "overflow_x": null,
            "overflow_y": null,
            "padding": null,
            "right": null,
            "top": null,
            "visibility": null,
            "width": null
          }
        },
        "e0150065bec24f718a5f4f77dd6a4036": {
          "model_module": "@jupyter-widgets/controls",
          "model_name": "DescriptionStyleModel",
          "model_module_version": "1.5.0",
          "state": {
            "_model_module": "@jupyter-widgets/controls",
            "_model_module_version": "1.5.0",
            "_model_name": "DescriptionStyleModel",
            "_view_count": null,
            "_view_module": "@jupyter-widgets/base",
            "_view_module_version": "1.2.0",
            "_view_name": "StyleView",
            "description_width": ""
          }
        },
        "ef9fb9aee4294046a67696caaad4d508": {
          "model_module": "@jupyter-widgets/base",
          "model_name": "LayoutModel",
          "model_module_version": "1.2.0",
          "state": {
            "_model_module": "@jupyter-widgets/base",
            "_model_module_version": "1.2.0",
            "_model_name": "LayoutModel",
            "_view_count": null,
            "_view_module": "@jupyter-widgets/base",
            "_view_module_version": "1.2.0",
            "_view_name": "LayoutView",
            "align_content": null,
            "align_items": null,
            "align_self": null,
            "border": null,
            "bottom": null,
            "display": null,
            "flex": null,
            "flex_flow": null,
            "grid_area": null,
            "grid_auto_columns": null,
            "grid_auto_flow": null,
            "grid_auto_rows": null,
            "grid_column": null,
            "grid_gap": null,
            "grid_row": null,
            "grid_template_areas": null,
            "grid_template_columns": null,
            "grid_template_rows": null,
            "height": null,
            "justify_content": null,
            "justify_items": null,
            "left": null,
            "margin": null,
            "max_height": null,
            "max_width": null,
            "min_height": null,
            "min_width": null,
            "object_fit": null,
            "object_position": null,
            "order": null,
            "overflow": null,
            "overflow_x": null,
            "overflow_y": null,
            "padding": null,
            "right": null,
            "top": null,
            "visibility": null,
            "width": null
          }
        },
        "f55ef0be604444879bb5c0f492629d76": {
          "model_module": "@jupyter-widgets/controls",
          "model_name": "ProgressStyleModel",
          "model_module_version": "1.5.0",
          "state": {
            "_model_module": "@jupyter-widgets/controls",
            "_model_module_version": "1.5.0",
            "_model_name": "ProgressStyleModel",
            "_view_count": null,
            "_view_module": "@jupyter-widgets/base",
            "_view_module_version": "1.2.0",
            "_view_name": "StyleView",
            "bar_color": null,
            "description_width": ""
          }
        },
        "0d3f3d3eb76640b8a29888977ed7ccd2": {
          "model_module": "@jupyter-widgets/base",
          "model_name": "LayoutModel",
          "model_module_version": "1.2.0",
          "state": {
            "_model_module": "@jupyter-widgets/base",
            "_model_module_version": "1.2.0",
            "_model_name": "LayoutModel",
            "_view_count": null,
            "_view_module": "@jupyter-widgets/base",
            "_view_module_version": "1.2.0",
            "_view_name": "LayoutView",
            "align_content": null,
            "align_items": null,
            "align_self": null,
            "border": null,
            "bottom": null,
            "display": null,
            "flex": null,
            "flex_flow": null,
            "grid_area": null,
            "grid_auto_columns": null,
            "grid_auto_flow": null,
            "grid_auto_rows": null,
            "grid_column": null,
            "grid_gap": null,
            "grid_row": null,
            "grid_template_areas": null,
            "grid_template_columns": null,
            "grid_template_rows": null,
            "height": null,
            "justify_content": null,
            "justify_items": null,
            "left": null,
            "margin": null,
            "max_height": null,
            "max_width": null,
            "min_height": null,
            "min_width": null,
            "object_fit": null,
            "object_position": null,
            "order": null,
            "overflow": null,
            "overflow_x": null,
            "overflow_y": null,
            "padding": null,
            "right": null,
            "top": null,
            "visibility": null,
            "width": null
          }
        },
        "c5853ab09b014ca58575ec5ee3dfae7d": {
          "model_module": "@jupyter-widgets/controls",
          "model_name": "DescriptionStyleModel",
          "model_module_version": "1.5.0",
          "state": {
            "_model_module": "@jupyter-widgets/controls",
            "_model_module_version": "1.5.0",
            "_model_name": "DescriptionStyleModel",
            "_view_count": null,
            "_view_module": "@jupyter-widgets/base",
            "_view_module_version": "1.2.0",
            "_view_name": "StyleView",
            "description_width": ""
          }
        }
      }
    }
  },
  "cells": [
    {
      "cell_type": "markdown",
      "metadata": {
        "id": "view-in-github",
        "colab_type": "text"
      },
      "source": [
        "<a href=\"https://colab.research.google.com/github/KS0999/ML/blob/main/ComputerVision_GPU.ipynb\" target=\"_parent\"><img src=\"https://colab.research.google.com/assets/colab-badge.svg\" alt=\"Open In Colab\"/></a>"
      ]
    },
    {
      "cell_type": "code",
      "execution_count": 124,
      "metadata": {
        "id": "3OhWH_Qcagpn"
      },
      "outputs": [],
      "source": [
        "import torch\n",
        "from torch import nn\n",
        "import torchvision\n",
        "from torchvision import datasets\n",
        "from torchvision import transforms\n",
        "from torchvision.transforms import ToTensor\n",
        "from torch.utils.data import DataLoader\n",
        "from matplotlib import pyplot as plt\n",
        "import numpy as np\n",
        "import os\n",
        "import pathlib as path\n",
        "import requests"
      ]
    },
    {
      "cell_type": "code",
      "source": [
        "train_dataset = torchvision.datasets.FashionMNIST(root=\"data\",\n",
        "                                                  train=True,\n",
        "                                                  download=True,\n",
        "                                                  transform=torchvision.transforms.ToTensor())\n",
        "test_dataset = torchvision.datasets.FashionMNIST(root=\"data\",\n",
        "                                                  train=False,\n",
        "                                                  download=True,\n",
        "                                                  transform=torchvision.transforms.ToTensor())"
      ],
      "metadata": {
        "id": "pPUm7jvgalu4"
      },
      "execution_count": 125,
      "outputs": []
    },
    {
      "cell_type": "code",
      "source": [
        "train_class = train_dataset.classes\n",
        "train_class"
      ],
      "metadata": {
        "colab": {
          "base_uri": "https://localhost:8080/"
        },
        "id": "XIgskn8Ualxc",
        "outputId": "72ad9094-a821-408e-f27f-f7ffa170fbed"
      },
      "execution_count": 126,
      "outputs": [
        {
          "output_type": "execute_result",
          "data": {
            "text/plain": [
              "['T-shirt/top',\n",
              " 'Trouser',\n",
              " 'Pullover',\n",
              " 'Dress',\n",
              " 'Coat',\n",
              " 'Sandal',\n",
              " 'Shirt',\n",
              " 'Sneaker',\n",
              " 'Bag',\n",
              " 'Ankle boot']"
            ]
          },
          "metadata": {},
          "execution_count": 126
        }
      ]
    },
    {
      "cell_type": "code",
      "source": [
        "train_label = train_dataset.class_to_idx\n",
        "train_label"
      ],
      "metadata": {
        "colab": {
          "base_uri": "https://localhost:8080/"
        },
        "id": "UOdK-0P0al03",
        "outputId": "cf0f0f46-0441-4794-9c0f-0225292d46f5"
      },
      "execution_count": 127,
      "outputs": [
        {
          "output_type": "execute_result",
          "data": {
            "text/plain": [
              "{'T-shirt/top': 0,\n",
              " 'Trouser': 1,\n",
              " 'Pullover': 2,\n",
              " 'Dress': 3,\n",
              " 'Coat': 4,\n",
              " 'Sandal': 5,\n",
              " 'Shirt': 6,\n",
              " 'Sneaker': 7,\n",
              " 'Bag': 8,\n",
              " 'Ankle boot': 9}"
            ]
          },
          "metadata": {},
          "execution_count": 127
        }
      ]
    },
    {
      "cell_type": "code",
      "source": [
        "plt.figure(figsize = (2,2))\n",
        "image,label = train_dataset[0]\n",
        "plt.imshow(image.squeeze(),cmap = \"gray\")\n",
        "plt.title(train_class[label])\n",
        "plt.axis(False)"
      ],
      "metadata": {
        "colab": {
          "base_uri": "https://localhost:8080/",
          "height": 231
        },
        "id": "DSawBrkdlLzc",
        "outputId": "015de05e-e9dd-4bbd-a26a-1609f6d219d9"
      },
      "execution_count": 128,
      "outputs": [
        {
          "output_type": "execute_result",
          "data": {
            "text/plain": [
              "(-0.5, 27.5, 27.5, -0.5)"
            ]
          },
          "metadata": {},
          "execution_count": 128
        },
        {
          "output_type": "display_data",
          "data": {
            "text/plain": [
              "<Figure size 200x200 with 1 Axes>"
            ],
            "image/png": "[encoded data removed]"
          },
          "metadata": {}
        }
      ]
    },
    {
      "cell_type": "code",
      "source": [
        "row,col = 4,4\n",
        "plt.figure(figsize=(6.5,6.5))\n",
        "for index in range(1,row*col+1):\n",
        "  random = torch.randint(1,row*col+1,size = [1]).item()\n",
        "  image,label = train_dataset[random]\n",
        "  plt.subplot(row,col,index)\n",
        "  plt.title(train_class[label])\n",
        "  plt.axis(False)\n",
        "  plt.imshow(image.squeeze(),cmap = \"gray\")\n"
      ],
      "metadata": {
        "colab": {
          "base_uri": "https://localhost:8080/",
          "height": 559
        },
        "id": "tX7ACi96lL9x",
        "outputId": "2bdf5712-265a-49dc-afc3-76c74a643485"
      },
      "execution_count": 129,
      "outputs": [
        {
          "output_type": "display_data",
          "data": {
            "text/plain": [
              "<Figure size 650x650 with 16 Axes>"
            ],
            "image/png": "[encoded data removed]"
          },
          "metadata": {}
        }
      ]
    },
    {
      "cell_type": "code",
      "source": [
        "Batch_size = 32\n",
        "train_dataloader = torch.utils.data.DataLoader(dataset = train_dataset,\n",
        "                                               batch_size = Batch_size,\n",
        "                                               shuffle = True)\n",
        "test_dataloader = torch.utils.data.DataLoader(dataset = test_dataset,\n",
        "                                               batch_size = Batch_size,\n",
        "                                               shuffle = False)\n",
        "print(len(train_dataset))\n",
        "print(len(test_dataset))\n",
        "print(len(train_dataloader))\n",
        "print(len(test_dataloader))"
      ],
      "metadata": {
        "colab": {
          "base_uri": "https://localhost:8080/"
        },
        "id": "9-_M66vBal6O",
        "outputId": "55c86bb4-ed7a-41f7-8c25-1825f7f4f419"
      },
      "execution_count": 130,
      "outputs": [
        {
          "output_type": "stream",
          "name": "stdout",
          "text": [
            "60000\n",
            "10000\n",
            "1875\n",
            "313\n"
          ]
        }
      ]
    },
    {
      "cell_type": "code",
      "source": [
        "if os.path.isfile(\"helper_functions.py\"):\n",
        "  print(\"helper_functions.py is exist!\")\n",
        "else:\n",
        "  print(\"helper_functions.py is not exist! Preparing for downloading ...\")\n",
        "  url = requests.get(\"https://raw.githubusercontent.com/mrdbourke/pytorch-deep-learning/main/helper_functions.py\")\n",
        "  with open(\"helper_functions.py\",\"wb\") as file:\n",
        "    file.write(url.content)"
      ],
      "metadata": {
        "colab": {
          "base_uri": "https://localhost:8080/"
        },
        "id": "dq1NRuhEal7U",
        "outputId": "01b05302-45d8-429b-fdbc-3fbea7562212"
      },
      "execution_count": 131,
      "outputs": [
        {
          "output_type": "stream",
          "name": "stdout",
          "text": [
            "helper_functions.py is exist!\n"
          ]
        }
      ]
    },
    {
      "cell_type": "code",
      "source": [
        "image,label = train_dataset[1]\n",
        "model = nn.Flatten()\n",
        "print(image.shape)\n",
        "print(model(image).shape)"
      ],
      "metadata": {
        "colab": {
          "base_uri": "https://localhost:8080/"
        },
        "id": "oN0c2BjiqB5j",
        "outputId": "93eafa37-f334-46bd-a8b7-9669b29e5e59"
      },
      "execution_count": 132,
      "outputs": [
        {
          "output_type": "stream",
          "name": "stdout",
          "text": [
            "torch.Size([1, 28, 28])\n",
            "torch.Size([1, 784])\n"
          ]
        }
      ]
    },
    {
      "cell_type": "code",
      "source": [
        "device = \"cuda\" if torch.cuda.is_available() else \"cpu\"\n",
        "device"
      ],
      "metadata": {
        "colab": {
          "base_uri": "https://localhost:8080/",
          "height": 35
        },
        "id": "_qAp1Tdx7T7S",
        "outputId": "0e3d8221-fe85-43d2-d3b4-6af03214627e"
      },
      "execution_count": 133,
      "outputs": [
        {
          "output_type": "execute_result",
          "data": {
            "text/plain": [
              "'cuda'"
            ],
            "application/vnd.google.colaboratory.intrinsic+json": {
              "type": "string"
            }
          },
          "metadata": {},
          "execution_count": 133
        }
      ]
    },
    {
      "cell_type": "code",
      "source": [
        "class FashionMNIST(nn.Module):\n",
        "  def __init__(self,input_shape,output_shape,hidden_units):\n",
        "    super().__init__()\n",
        "    self.layer = nn.Sequential(\n",
        "        nn.Flatten(),\n",
        "        nn.Linear(in_features=input_shape,out_features=hidden_units),\n",
        "        nn.ReLU(),\n",
        "        nn.Linear(in_features=hidden_units,out_features=hidden_units),\n",
        "        nn.ReLU(),\n",
        "        nn.Linear(in_features=hidden_units,out_features=hidden_units),\n",
        "        nn.ReLU(),\n",
        "        nn.Linear(in_features=hidden_units,out_features=output_shape),\n",
        "    )\n",
        "  def forward(self,x):\n",
        "    return self.layer(x)\n",
        "\n",
        "model_v1 = FashionMNIST (input_shape = 28*28,\n",
        "                         output_shape = len(train_label),\n",
        "                         hidden_units = 10).to(device)\n",
        "model_v1.state_dict()"
      ],
      "metadata": {
        "colab": {
          "base_uri": "https://localhost:8080/"
        },
        "id": "_4XmXbmQj_3s",
        "outputId": "5ceb798c-3f6c-4e91-e4bf-f907f6620493"
      },
      "execution_count": 134,
      "outputs": [
        {
          "output_type": "execute_result",
          "data": {
            "text/plain": [
              "OrderedDict([('layer.1.weight',\n",
              "              tensor([[ 0.0052, -0.0001,  0.0312,  ..., -0.0127, -0.0012, -0.0216],\n",
              "                      [ 0.0082,  0.0330,  0.0224,  ...,  0.0027,  0.0016, -0.0277],\n",
              "                      [ 0.0036,  0.0347,  0.0019,  ..., -0.0249,  0.0046,  0.0142],\n",
              "                      ...,\n",
              "                      [ 0.0142,  0.0272, -0.0267,  ...,  0.0012,  0.0024,  0.0172],\n",
              "                      [ 0.0135,  0.0225, -0.0108,  ...,  0.0119,  0.0053, -0.0057],\n",
              "                      [-0.0273,  0.0040, -0.0131,  ...,  0.0163,  0.0103,  0.0022]],\n",
              "                     device='cuda:0')),\n",
              "             ('layer.1.bias',\n",
              "              tensor([ 0.0210,  0.0342, -0.0055,  0.0198,  0.0160, -0.0148, -0.0306,  0.0013,\n",
              "                      -0.0179, -0.0222], device='cuda:0')),\n",
              "             ('layer.3.weight',\n",
              "              tensor([[-0.2146, -0.3015, -0.2045, -0.1087, -0.0241,  0.1859,  0.0989,  0.1570,\n",
              "                       -0.0893,  0.0470],\n",
              "                      [ 0.3122,  0.1545,  0.1913, -0.0707,  0.2633, -0.1212, -0.0100, -0.1674,\n",
              "                       -0.3057,  0.1963],\n",
              "                      [ 0.2347,  0.1299,  0.0440, -0.3039, -0.2287,  0.0071,  0.1692, -0.0697,\n",
              "                       -0.2336,  0.0265],\n",
              "                      [ 0.1575, -0.0824,  0.1898, -0.1353, -0.1796,  0.1116, -0.2691,  0.1059,\n",
              "                        0.0330,  0.2856],\n",
              "                      [-0.1775, -0.0685, -0.1749,  0.0605, -0.2664, -0.2284, -0.0533,  0.3149,\n",
              "                       -0.0443, -0.0255],\n",
              "                      [-0.2987, -0.2831,  0.0078, -0.0744,  0.1510, -0.1799,  0.0078, -0.0139,\n",
              "                       -0.1963, -0.0140],\n",
              "                      [-0.1801,  0.0892,  0.0823, -0.2270, -0.2196, -0.2484,  0.1212,  0.2248,\n",
              "                       -0.2046, -0.1593],\n",
              "                      [-0.3153, -0.2611,  0.1368,  0.0948,  0.3136,  0.1916, -0.1993,  0.0676,\n",
              "                        0.2592, -0.0021],\n",
              "                      [-0.0813,  0.0091, -0.0783,  0.1686, -0.1822, -0.1498, -0.0669, -0.0794,\n",
              "                        0.1641, -0.1812],\n",
              "                      [-0.2738,  0.0129, -0.0776, -0.0550,  0.2131, -0.2348, -0.1297, -0.0537,\n",
              "                       -0.0847,  0.2625]], device='cuda:0')),\n",
              "             ('layer.3.bias',\n",
              "              tensor([ 0.2732, -0.1374, -0.0327, -0.0107, -0.2774,  0.3152,  0.3047, -0.0920,\n",
              "                       0.2920, -0.1585], device='cuda:0')),\n",
              "             ('layer.5.weight',\n",
              "              tensor([[-0.3007,  0.2287,  0.1403, -0.0736, -0.2154,  0.2051, -0.1655, -0.2709,\n",
              "                       -0.0953, -0.1629],\n",
              "                      [-0.1519,  0.0132,  0.2097, -0.2871,  0.0630,  0.1373, -0.0426,  0.1894,\n",
              "                        0.1902, -0.2487],\n",
              "                      [-0.0552,  0.1794,  0.1773,  0.0960,  0.2306,  0.1456, -0.0883, -0.2221,\n",
              "                       -0.2862, -0.1545],\n",
              "                      [ 0.1463, -0.0149,  0.1251,  0.0787, -0.1382,  0.2839, -0.2360, -0.2887,\n",
              "                        0.1057,  0.0806],\n",
              "                      [ 0.3005, -0.3071, -0.0167,  0.2254,  0.1918, -0.1647, -0.1812, -0.0898,\n",
              "                       -0.1613,  0.1333],\n",
              "                      [-0.2191, -0.3134,  0.2700, -0.1979, -0.0361, -0.2003, -0.1737,  0.0341,\n",
              "                       -0.0634, -0.1195],\n",
              "                      [-0.2734,  0.0965, -0.2866, -0.1028, -0.1897, -0.1173,  0.3112, -0.0578,\n",
              "                        0.0609, -0.2531],\n",
              "                      [ 0.0346, -0.0049, -0.2482, -0.3046,  0.1332, -0.2082, -0.1159,  0.1203,\n",
              "                        0.1564,  0.2175],\n",
              "                      [-0.1449, -0.1649,  0.2277,  0.2752, -0.2807,  0.1983,  0.0803,  0.0158,\n",
              "                       -0.0429, -0.0583],\n",
              "                      [-0.2220, -0.2128, -0.1827, -0.2710, -0.1447,  0.3149, -0.0159, -0.0468,\n",
              "                        0.0624,  0.1878]], device='cuda:0')),\n",
              "             ('layer.5.bias',\n",
              "              tensor([-0.0023, -0.2055, -0.1367, -0.2705,  0.1862,  0.1053, -0.1008, -0.2013,\n",
              "                      -0.0253, -0.0641], device='cuda:0')),\n",
              "             ('layer.7.weight',\n",
              "              tensor([[-0.2245,  0.1867, -0.3070, -0.0958, -0.3143,  0.2650, -0.3089,  0.1725,\n",
              "                        0.2209, -0.1441],\n",
              "                      [ 0.0525, -0.0328, -0.1302, -0.0681, -0.0319, -0.2364, -0.2980, -0.2741,\n",
              "                        0.2881,  0.0806],\n",
              "                      [-0.1451,  0.1273, -0.2205, -0.2266, -0.3085,  0.0447,  0.1129,  0.1722,\n",
              "                        0.2543, -0.1298],\n",
              "                      [-0.0041,  0.1473,  0.1804,  0.2278, -0.0350,  0.1569,  0.1083, -0.2853,\n",
              "                        0.1254,  0.1794],\n",
              "                      [-0.0739,  0.1965,  0.0501,  0.2803, -0.0699, -0.1249, -0.2951, -0.2666,\n",
              "                        0.0239,  0.2620],\n",
              "                      [-0.0602, -0.0394, -0.1425,  0.1503, -0.1038,  0.2078,  0.1401, -0.1736,\n",
              "                       -0.2520,  0.0451],\n",
              "                      [ 0.1257, -0.1923,  0.2537,  0.1195, -0.0932,  0.1003, -0.2885,  0.2909,\n",
              "                        0.1133,  0.1747],\n",
              "                      [-0.1376, -0.0458,  0.1800, -0.1259, -0.2114, -0.2705, -0.0636,  0.0410,\n",
              "                       -0.0996, -0.2633],\n",
              "                      [ 0.2722,  0.0895, -0.1793, -0.1101, -0.2766,  0.0982, -0.3086, -0.1105,\n",
              "                       -0.2391, -0.2463],\n",
              "                      [-0.0906,  0.1443,  0.2878,  0.1941,  0.0307, -0.0623,  0.1083,  0.0025,\n",
              "                       -0.2260, -0.2504]], device='cuda:0')),\n",
              "             ('layer.7.bias',\n",
              "              tensor([ 0.0687, -0.1651, -0.2611,  0.2181, -0.0743, -0.2430, -0.0820,  0.2713,\n",
              "                      -0.2466,  0.2917], device='cuda:0'))])"
            ]
          },
          "metadata": {},
          "execution_count": 134
        }
      ]
    },
    {
      "cell_type": "code",
      "source": [
        "# Accuracy functions\n",
        "from helper_functions import accuracy_fn\n",
        "# Loss functions\n",
        "loss_fn = torch.nn.CrossEntropyLoss()\n",
        "# Optimizer\n",
        "optimizer = torch.optim.SGD(lr = 0.1,\n",
        "                            params=model_v1.parameters())"
      ],
      "metadata": {
        "id": "UCSBi_PUjQ4w"
      },
      "execution_count": 135,
      "outputs": []
    },
    {
      "cell_type": "code",
      "source": [
        "from timeit import default_timer as timer\n",
        "def calculate_time(start : float,\n",
        "                   end : float,\n",
        "                   device : torch.device):\n",
        "  total_time = end - start\n",
        "  print(f\"Now running on {device} . All progress take {total_time} seconds.\")\n",
        "  return total_time"
      ],
      "metadata": {
        "id": "jy6qcopgal_u"
      },
      "execution_count": 136,
      "outputs": []
    },
    {
      "cell_type": "code",
      "source": [
        "import torch\n",
        "\n",
        "train_dataloader = [ (data.to(device), labels.to(device)) for data, labels in train_dataloader]\n",
        "test_dataloader = [ (data.to(device), labels.to(device)) for data, labels in test_dataloader]"
      ],
      "metadata": {
        "id": "yYytOHBlAm-z"
      },
      "execution_count": 137,
      "outputs": []
    },
    {
      "cell_type": "code",
      "source": [
        "from tqdm.auto import tqdm\n",
        "torch.manual_seed(1)\n",
        "\n",
        "epochs = 3\n",
        "train_time_start = timer()\n",
        "\n",
        "for epoch in tqdm(range(epochs)):\n",
        "  print(f\"----------EPOCH {epoch}----------\\n\")\n",
        "  train_loss = 0\n",
        "\n",
        "  for batch,(X,y) in enumerate(train_dataloader):\n",
        "    model_v1.train()\n",
        "    # do the forwardpass\n",
        "    y_pred = model_v1(X)\n",
        "\n",
        "    # calculate the loss\n",
        "    loss = loss_fn(y_pred,y)\n",
        "    train_loss += loss\n",
        "\n",
        "    # optimizer zero grad\n",
        "    optimizer.zero_grad()\n",
        "\n",
        "    # loss backward\n",
        "    loss.backward()\n",
        "\n",
        "    # optimizer step\n",
        "    optimizer.step()\n",
        "    if batch % 400 ==0:\n",
        "      print(f\"Loading {batch*len(X)}/{len(train_dataset)}...\\n\")\n",
        "  train_loss /= len(train_dataloader)\n",
        "\n",
        "  model_v1.eval()\n",
        "  test_loss,test_acc = 0,0\n",
        "  with torch.inference_mode():\n",
        "    for X,y in test_dataloader:\n",
        "      # do the forward pass\n",
        "      test_pred = model_v1(X)\n",
        "\n",
        "      # calculate the loss & acc\n",
        "      test_loss += loss_fn(test_pred,y)\n",
        "      test_acc += accuracy_fn (y_true = y,\n",
        "                               y_pred = torch.argmax(test_pred,dim = 1))\n",
        "    test_loss /= len(test_dataloader)\n",
        "    test_acc /= len(test_dataloader)\n",
        "    # All train & evaluate result\n",
        "  print(f\" Train_Loss : {train_loss:.5f}, Test_Loss : {test_loss:.5f}, Test_Accuracy : {test_acc:.2f}%\\n\")\n",
        "\n",
        "train_time_end = timer()\n",
        "train_time_total = calculate_time(start = train_time_start,\n",
        "                                  end = train_time_end,\n",
        "                                  device = str(next(model_v1.parameters()).device))"
      ],
      "metadata": {
        "colab": {
          "base_uri": "https://localhost:8080/",
          "height": 825,
          "referenced_widgets": [
            "d8161b16d9c3406bbd413bbc3c7e155b",
            "78549c6d23384498a903280b6a0f815e",
            "dd097c39093b4168be4416eca87d6f76",
            "aeab160f6f484b1aa6ce12220bfad7b1",
            "b9584503325d4867bbcd9be6e4292cd1",
            "343bfcec00744ea4986f22224fe939c1",
            "44f9e3ef90f4409bbc448171eb62984d",
            "e9b589e14e264dd5a112e398cc0ef818",
            "08dfd32d03f24c79a1d0ffb95e0fd0d7",
            "72b91f889869406d9c25e9305bc68915",
            "07c3b13a1e254d31a01dcb2778e8d128"
          ]
        },
        "id": "muyuyq_WamC3",
        "outputId": "6481e2ab-d93e-487b-a132-97b30c19a32d"
      },
      "execution_count": 138,
      "outputs": [
        {
          "output_type": "display_data",
          "data": {
            "text/plain": [
              "  0%|          | 0/3 [00:00<?, ?it/s]"
            ],
            "application/vnd.jupyter.widget-view+json": {
              "version_major": 2,
              "version_minor": 0,
              "model_id": "d8161b16d9c3406bbd413bbc3c7e155b"
            }
          },
          "metadata": {}
        },
        {
          "output_type": "stream",
          "name": "stdout",
          "text": [
            "----------EPOCH 0----------\n",
            "\n",
            "Loading 0/60000...\n",
            "\n",
            "Loading 12800/60000...\n",
            "\n",
            "Loading 25600/60000...\n",
            "\n",
            "Loading 38400/60000...\n",
            "\n",
            "Loading 51200/60000...\n",
            "\n",
            " Train_Loss : 0.89590, Test_Loss : 0.64223, Test_Accuracy : 76.75%\n",
            "\n",
            "----------EPOCH 1----------\n",
            "\n",
            "Loading 0/60000...\n",
            "\n",
            "Loading 12800/60000...\n",
            "\n",
            "Loading 25600/60000...\n",
            "\n",
            "Loading 38400/60000...\n",
            "\n",
            "Loading 51200/60000...\n",
            "\n",
            " Train_Loss : 0.53999, Test_Loss : 0.51263, Test_Accuracy : 81.32%\n",
            "\n",
            "----------EPOCH 2----------\n",
            "\n",
            "Loading 0/60000...\n",
            "\n",
            "Loading 12800/60000...\n",
            "\n",
            "Loading 25600/60000...\n",
            "\n",
            "Loading 38400/60000...\n",
            "\n",
            "Loading 51200/60000...\n",
            "\n",
            " Train_Loss : 0.49267, Test_Loss : 0.50622, Test_Accuracy : 81.78%\n",
            "\n",
            "Now running on cuda:0 . All progress take 14.288280886999928 seconds.\n"
          ]
        }
      ]
    },
    {
      "cell_type": "code",
      "source": [
        "def eval_model_dict(model : torch.nn.Module,\n",
        "                    loss : torch.nn.Module,\n",
        "                    dataloader : torch.utils.data.DataLoader,\n",
        "                    accuracy_fn):\n",
        "  model.eval()\n",
        "  loss, acc = 0, 0\n",
        "  with torch.inference_mode():\n",
        "    for X,y in tqdm(dataloader):\n",
        "      # do the forward pass\n",
        "      y_pred = model(X)\n",
        "      # calculate the loss & accuracy\n",
        "      loss += loss_fn(y_pred, y)\n",
        "      acc += accuracy_fn(y_true = y,\n",
        "                        y_pred = torch.argmax(y_pred, dim = 1))\n",
        "    loss /= len(dataloader)\n",
        "    acc /= len(dataloader)\n",
        "  return {\n",
        "      \"Model\" :model.__class__.__name__,\n",
        "      \"Loss\" : loss.item(),\n",
        "      \"Accuarcy\" : acc,\n",
        "  }"
      ],
      "metadata": {
        "id": "d3PvkavD6Uwc"
      },
      "execution_count": 139,
      "outputs": []
    },
    {
      "cell_type": "code",
      "source": [
        "eval_test_dict = eval_model_dict(model = model_v1,\n",
        "                            loss = loss_fn,\n",
        "                            dataloader = test_dataloader,\n",
        "                            accuracy_fn = accuracy_fn)\n",
        "eval_test_dict"
      ],
      "metadata": {
        "id": "5Y-4pqgu6VT2",
        "colab": {
          "base_uri": "https://localhost:8080/",
          "height": 103,
          "referenced_widgets": [
            "e8aca90ca7574b80a61056fb89d462eb",
            "74c48d8ef6474b59a2436768fcc60f41",
            "6d9b28e3215e40b8bc7944da55aba2dc",
            "0f706ae0e0464c95ac57296469e182e0",
            "9a13da386c9549e6b84db7c8ed94085b",
            "423a117127c44103946a514baa0fe0c1",
            "99919fcebd08487cb961c30457dc8949",
            "0660fbd217bc4a819da350f32eff897f",
            "2b49740b286848f18057d57c0322e9ac",
            "03870f31d8a747489e403c26d4642bf1",
            "ae288522dd654bd4a5fce0c175b3fbdd"
          ]
        },
        "outputId": "1eada12f-ec6a-4dd0-de88-aecd7d9761e2"
      },
      "execution_count": 140,
      "outputs": [
        {
          "output_type": "display_data",
          "data": {
            "text/plain": [
              "  0%|          | 0/313 [00:00<?, ?it/s]"
            ],
            "application/vnd.jupyter.widget-view+json": {
              "version_major": 2,
              "version_minor": 0,
              "model_id": "e8aca90ca7574b80a61056fb89d462eb"
            }
          },
          "metadata": {}
        },
        {
          "output_type": "execute_result",
          "data": {
            "text/plain": [
              "{'Model': 'FashionMNIST',\n",
              " 'Loss': 0.5062181949615479,\n",
              " 'Accuarcy': 81.77915335463258}"
            ]
          },
          "metadata": {},
          "execution_count": 140
        }
      ]
    },
    {
      "cell_type": "code",
      "source": [
        "def train_model(epochs : int,\n",
        "                dataloader : torch.utils.data.DataLoader,\n",
        "                model : torch.nn.Module,\n",
        "                loss_fn : torch.nn.Module,\n",
        "                optimizer : torch.optim.Optimizer,\n",
        "                device : torch.device = device):\n",
        "  from tqdm.auto import tqdm\n",
        "\n",
        "  train_start = timer()\n",
        "  epochs = epochs\n",
        "\n",
        "  for epoch in tqdm(range(epochs)):\n",
        "    print(f\"---------- EPOCH {epoch} ----------\\n\")\n",
        "    train_loss, train_acc = 0,0\n",
        "    for batch,(X,y) in enumerate(dataloader):\n",
        "      X,y = X.to(device),y.to(device)\n",
        "      # setting model train\n",
        "      model.train()\n",
        "\n",
        "      # do the forward pass\n",
        "      y_pred = model(X)\n",
        "      # calculate the loss\n",
        "      loss = loss_fn(y_pred,y)\n",
        "      acc = accuracy_fn(y_true = y,\n",
        "                        y_pred = torch.argmax(y_pred,dim = 1))\n",
        "      train_loss += loss\n",
        "      train_acc += acc\n",
        "      # optimizer zero grad\n",
        "      optimizer.zero_grad()\n",
        "      # loss backward\n",
        "      loss.backward()\n",
        "      # optimizer step\n",
        "      optimizer.step()\n",
        "    train_loss /= len(dataloader)\n",
        "    train_acc /= len(dataloader)\n",
        "    print(f\"Train_loss : {train_loss.item()}, Train_Accuracy : {train_acc:.2f} %\\n\")\n",
        "    train_end = timer()\n",
        "  train_total = calculate_time(start = train_start,\n",
        "                               end = train_end,\n",
        "                               device = str(next(model.parameters()).device))"
      ],
      "metadata": {
        "id": "jz94i5D06Ta6"
      },
      "execution_count": 141,
      "outputs": []
    },
    {
      "cell_type": "code",
      "source": [
        "def eval_model(epoch : int,\n",
        "               model : torch.nn.Module,\n",
        "               loss : torch.nn.Module,\n",
        "               dataloader : torch.utils.data.DataLoader,\n",
        "               accuracy_fn):\n",
        "  model.eval()\n",
        "  from timeit import default_timer as timer\n",
        "  from tqdm.auto import tqdm\n",
        "\n",
        "  eval_start = timer()\n",
        "  epochs = epoch\n",
        "  test_loss, test_acc = 0, 0\n",
        "  for epoch in tqdm(range(epochs)):\n",
        "    with torch.inference_mode():\n",
        "      for X,y in dataloader :\n",
        "        X,y = X.to(device),y.to(device)\n",
        "        # do the forward pass\n",
        "        test_pred = model(X)\n",
        "        # calculate the loss & accuracy\n",
        "        test_loss += loss_fn(test_pred, y)\n",
        "        test_acc += accuracy_fn(y_true = y,\n",
        "                                y_pred = torch.argmax(test_pred, dim = 1))\n",
        "      test_loss /= len(dataloader)\n",
        "      test_acc /= len(dataloader)\n",
        "    print(f\" Test_Loss : {test_loss.item()} , Test_Accuracy : {test_acc:.2f} %\\n\")\n",
        "    eval_end = timer()\n",
        "\n",
        "  eval_test = calculate_time(start = eval_start,\n",
        "                             end = eval_end,\n",
        "                             device =str(next(model_v1.parameters()).device))"
      ],
      "metadata": {
        "id": "wxqe-vo4-EFU"
      },
      "execution_count": 142,
      "outputs": []
    },
    {
      "cell_type": "code",
      "source": [
        "model_test= train_model(epochs = 3 ,\n",
        "                        dataloader = train_dataloader,\n",
        "                        model = model_v1,\n",
        "                        loss_fn = torch.nn.CrossEntropyLoss(),\n",
        "                        optimizer = torch.optim.SGD(lr = 0.1,\n",
        "                                                    params = model_v1.parameters()))\n",
        "model_test"
      ],
      "metadata": {
        "colab": {
          "base_uri": "https://localhost:8080/",
          "height": 284,
          "referenced_widgets": [
            "00f64582a17b43298a9b7d4ce41c657b",
            "1c3c05e1276c4b17abaa7ae3781d7272",
            "c51084d46d0c4671805ad28958afa7ae",
            "00631dc33ff5427ba05a6ad7c4feaf5a",
            "aae80f2454c747f689625f943c2f1dde",
            "94c1a54750d84741b95c6165d223ccca",
            "12c77803acd647b494128c83f71402df",
            "9318a6738e834a0690b12f26e0e2e28f",
            "634fdc1dfa8642368a8097efd0d9c731",
            "f52a5022b23c4cdc9643ea5bc4adca74",
            "60ac0f4bec0a4b9f95b1276c4db074ba"
          ]
        },
        "id": "bo3QAYpp46Dl",
        "outputId": "6dcae919-20e0-4edf-b25a-e00a36831404"
      },
      "execution_count": 143,
      "outputs": [
        {
          "output_type": "display_data",
          "data": {
            "text/plain": [
              "  0%|          | 0/3 [00:00<?, ?it/s]"
            ],
            "application/vnd.jupyter.widget-view+json": {
              "version_major": 2,
              "version_minor": 0,
              "model_id": "00f64582a17b43298a9b7d4ce41c657b"
            }
          },
          "metadata": {}
        },
        {
          "output_type": "stream",
          "name": "stdout",
          "text": [
            "---------- EPOCH 0 ----------\n",
            "\n",
            "Train_loss : 0.46801093220710754, Train_Accuracy : 83.38 %\n",
            "\n",
            "---------- EPOCH 1 ----------\n",
            "\n",
            "Train_loss : 0.449840247631073, Train_Accuracy : 84.10 %\n",
            "\n",
            "---------- EPOCH 2 ----------\n",
            "\n",
            "Train_loss : 0.43557292222976685, Train_Accuracy : 84.66 %\n",
            "\n",
            "Now running on cuda:0 . All progress take 11.155483307000395 seconds.\n"
          ]
        }
      ]
    },
    {
      "cell_type": "code",
      "source": [
        "eval_test = eval_model(epoch = 3,\n",
        "                       model = model_v1,\n",
        "                       loss = torch.nn.CrossEntropyLoss(),\n",
        "                       dataloader = test_dataloader,\n",
        "                       accuracy_fn = accuracy_fn)\n",
        "eval_test"
      ],
      "metadata": {
        "colab": {
          "base_uri": "https://localhost:8080/",
          "height": 175,
          "referenced_widgets": [
            "008b518c58764652811917746da2f96e",
            "3c2482bbd9a9476b8fd01cfd377e6f85",
            "277445aa71f841848012529b3ed15675",
            "63da8bfeb6cd4ee8a96d34894a3fe771",
            "7cc9e4ec5f0945429a4415f172da4ec1",
            "5d27fcbcc61b48e8b95aa7ca680ba101",
            "5bfc2ae7b5b64a3d95dbe3a3292a097d",
            "6150547e76e84b6db901ef28894f7277",
            "d81d11fee75948d2b373270be381b288",
            "44ecce75f9be4ffab2ef3fbc9a45842d",
            "5b4d9e9fe09a4938a68d6e70b38d231b"
          ]
        },
        "id": "SoEamc3zuT4d",
        "outputId": "01660179-c633-4fa0-f63e-61445361d6e4"
      },
      "execution_count": 144,
      "outputs": [
        {
          "output_type": "display_data",
          "data": {
            "text/plain": [
              "  0%|          | 0/3 [00:00<?, ?it/s]"
            ],
            "application/vnd.jupyter.widget-view+json": {
              "version_major": 2,
              "version_minor": 0,
              "model_id": "008b518c58764652811917746da2f96e"
            }
          },
          "metadata": {}
        },
        {
          "output_type": "stream",
          "name": "stdout",
          "text": [
            " Test_Loss : 0.4806760251522064 , Test_Accuracy : 82.45 %\n",
            "\n",
            " Test_Loss : 0.48221173882484436 , Test_Accuracy : 82.71 %\n",
            "\n",
            " Test_Loss : 0.4822166860103607 , Test_Accuracy : 82.71 %\n",
            "\n",
            "Now running on cuda:0 . All progress take 0.4055773219997718 seconds.\n"
          ]
        }
      ]
    },
    {
      "cell_type": "code",
      "source": [
        "train_result = eval_model_dict(model = model_v1,\n",
        "                               loss = torch.nn.CrossEntropyLoss(),\n",
        "                               dataloader = train_dataloader,\n",
        "                               accuracy_fn = accuracy_fn)\n",
        "train_result"
      ],
      "metadata": {
        "colab": {
          "base_uri": "https://localhost:8080/",
          "height": 67,
          "referenced_widgets": [
            "4550c91adee042c39c7a13322b96d731",
            "66ac43a4876d48d09f482d024325ffed",
            "c524d91a4b64401da0e8ef1f005941a9",
            "1caa97974349481da01b231baeb313d4",
            "e9141b4ae7c14bb6a99a4d959ab0dad1",
            "46321d115872431989d350b42eae9362",
            "59aad38833ff4b2a807724fc50d88f90",
            "1efc76e98f9943c6a21937013a863501",
            "7804d638b55f4d9aaadd0d46d698336f",
            "6e8db37965ee4eccbd6a18e5fbf8fc32",
            "134406be93e04c28b0600631bf025317"
          ]
        },
        "id": "IDG3wxQS9BoV",
        "outputId": "cea19c17-35cc-479d-a5e3-2ab0e123e611"
      },
      "execution_count": 145,
      "outputs": [
        {
          "output_type": "display_data",
          "data": {
            "text/plain": [
              "  0%|          | 0/1875 [00:00<?, ?it/s]"
            ],
            "application/vnd.jupyter.widget-view+json": {
              "version_major": 2,
              "version_minor": 0,
              "model_id": "4550c91adee042c39c7a13322b96d731"
            }
          },
          "metadata": {}
        },
        {
          "output_type": "execute_result",
          "data": {
            "text/plain": [
              "{'Model': 'FashionMNIST', 'Loss': 0.4260580837726593, 'Accuarcy': 84.38}"
            ]
          },
          "metadata": {},
          "execution_count": 145
        }
      ]
    },
    {
      "cell_type": "code",
      "source": [
        "test_result = eval_model_dict(model = model_v1,\n",
        "                               loss = torch.nn.CrossEntropyLoss(),\n",
        "                               dataloader = test_dataloader,\n",
        "                               accuracy_fn = accuracy_fn)\n",
        "test_result"
      ],
      "metadata": {
        "colab": {
          "base_uri": "https://localhost:8080/",
          "height": 103,
          "referenced_widgets": [
            "88d9d64f33d2466b824f00bc986a9971",
            "51b9f2f42f36418f90a65ed4eacf366f",
            "4a5d2657d4204f83a95fec8990beb8ad",
            "e3ffc6bbc5ea47eca9e476baa20602dc",
            "defa4ac384d343b6a984256a1049c1b4",
            "2cb5ef02082e45a4998e7a1ab9df78f4",
            "e0150065bec24f718a5f4f77dd6a4036",
            "ef9fb9aee4294046a67696caaad4d508",
            "f55ef0be604444879bb5c0f492629d76",
            "0d3f3d3eb76640b8a29888977ed7ccd2",
            "c5853ab09b014ca58575ec5ee3dfae7d"
          ]
        },
        "id": "FiP0Kofp9wRY",
        "outputId": "7ce9698a-c123-4270-d4f5-ba856ec280cc"
      },
      "execution_count": 146,
      "outputs": [
        {
          "output_type": "display_data",
          "data": {
            "text/plain": [
              "  0%|          | 0/313 [00:00<?, ?it/s]"
            ],
            "application/vnd.jupyter.widget-view+json": {
              "version_major": 2,
              "version_minor": 0,
              "model_id": "88d9d64f33d2466b824f00bc986a9971"
            }
          },
          "metadata": {}
        },
        {
          "output_type": "execute_result",
          "data": {
            "text/plain": [
              "{'Model': 'FashionMNIST',\n",
              " 'Loss': 0.4806760251522064,\n",
              " 'Accuarcy': 82.44808306709265}"
            ]
          },
          "metadata": {},
          "execution_count": 146
        }
      ]
    }
  ]
}