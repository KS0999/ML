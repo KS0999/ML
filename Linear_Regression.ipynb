{
  "nbformat": 4,
  "nbformat_minor": 0,
  "metadata": {
    "colab": {
      "provenance": [],
      "authorship_tag": "ABX9TyPCQQT3NO8hAtZmgkk6/RgG",
      "include_colab_link": true
    },
    "kernelspec": {
      "name": "python3",
      "display_name": "Python 3"
    },
    "language_info": {
      "name": "python"
    }
  },
  "cells": [
    {
      "cell_type": "markdown",
      "metadata": {
        "id": "view-in-github",
        "colab_type": "text"
      },
      "source": [
        "<a href=\"https://colab.research.google.com/github/KS0999/ML/blob/KS0999-patch-1/Linear_Regression.ipynb\" target=\"_parent\"><img src=\"https://colab.research.google.com/assets/colab-badge.svg\" alt=\"Open In Colab\"/></a>"
      ]
    },
    {
      "cell_type": "code",
      "execution_count": null,
      "metadata": {
        "id": "6s451Bq3JXAn"
      },
      "outputs": [],
      "source": [
        "import torch\n",
        "import matplotlib.pyplot as plt\n",
        "\n",
        "#weight & bias\n",
        "weight = 0.3\n",
        "bias= 0.9\n",
        "\n",
        "start,step,end=0,0.02,1\n",
        "\n",
        "X=torch.arange(start,end,step).unsqueeze(1)\n",
        "y=X*weight+bias\n"
      ]
    },
    {
      "cell_type": "code",
      "source": [
        "data_split=int(len(X)*0.8)\n",
        "X_train,y_train=X[:data_split],y[:data_split]\n",
        "X_test,y_test=X[data_split:],y[data_split:]"
      ],
      "metadata": {
        "id": "BHpAPfV5KHng"
      },
      "execution_count": null,
      "outputs": []
    },
    {
      "cell_type": "code",
      "source": [
        "def Linear_Regression(prediction=None):\n",
        "  plt.figure(figsize=(10,7))\n",
        "  plt.scatter(X_train,y_train,s=10,c=\"g\",label=\"Train\")\n",
        "  plt.scatter(X_test,y_test,s=10,c=\"b\",label=\"Test\")\n",
        "  if prediction is not None:\n",
        "    plt.scatter(X_test,prediction,s=10,c=\"r\",label=\"Prediction\")\n",
        "  plt.legend()\n",
        "  plt.show()"
      ],
      "metadata": {
        "id": "DkM14zFzKlyL"
      },
      "execution_count": null,
      "outputs": []
    },
    {
      "cell_type": "code",
      "source": [
        "Linear_Regression();"
      ],
      "metadata": {
        "colab": {
          "base_uri": "https://localhost:8080/",
          "height": 599
        },
        "id": "-vwuRp0EMMCo",
        "outputId": "da5f0b66-c9a3-4afb-c990-c37fb7591403"
      },
      "execution_count": null,
      "outputs": [
        {
          "output_type": "display_data",
          "data": {
            "text/plain": [
              "<Figure size 1000x700 with 1 Axes>"
            ],
            "image/png": "[encoded data removed]"
          },
          "metadata": {}
        }
      ]
    },
    {
      "cell_type": "code",
      "source": [
        "import torch.nn as nn\n",
        "\n",
        "class LinearRegressionModel(nn.Module):\n",
        "  def __init__(self):\n",
        "    super().__init__()\n",
        "    self.Linear_layer=torch.nn.Linear(in_features=1,\n",
        "                                      out_features=1)\n",
        "  def forward(self,x):\n",
        "    return self.Linear_layer(x)"
      ],
      "metadata": {
        "id": "mvAezr6mNYh1"
      },
      "execution_count": null,
      "outputs": []
    },
    {
      "cell_type": "code",
      "source": [
        "torch.manual_seed(1)\n",
        "model=LinearRegressionModel()\n",
        "model.state_dict()"
      ],
      "metadata": {
        "colab": {
          "base_uri": "https://localhost:8080/"
        },
        "id": "W5-4VqgeOcao",
        "outputId": "5363b8a4-e8f3-4805-bd1f-2e74a6e2a915"
      },
      "execution_count": null,
      "outputs": [
        {
          "output_type": "execute_result",
          "data": {
            "text/plain": [
              "OrderedDict([('Linear_layer.weight', tensor([[0.5153]])),\n",
              "             ('Linear_layer.bias', tensor([-0.4414]))])"
            ]
          },
          "metadata": {},
          "execution_count": 131
        }
      ]
    },
    {
      "cell_type": "code",
      "source": [
        "loss_function=nn.L1Loss()\n",
        "optimizer=torch.optim.SGD(params=model.parameters(),\n",
        "                          lr=0.01)"
      ],
      "metadata": {
        "id": "jQcTzCt6PHBY"
      },
      "execution_count": null,
      "outputs": []
    },
    {
      "cell_type": "code",
      "source": [
        "epochs=500\n",
        "for epochs in range(epochs):\n",
        "\n",
        "  #training\n",
        "  model.train()\n",
        "  y_pred=model(X_train)\n",
        "  loss=loss_function(y_pred,y_train)\n",
        "  optimizer.zero_grad()\n",
        "  loss.backward()\n",
        "  optimizer.step()\n",
        "\n",
        "  #testing\n",
        "  model.eval()\n",
        "  with torch.inference_mode():\n",
        "    y_preds=model(X_test)\n",
        "    loss_2=loss_function(y_preds,y_test)\n",
        "  if ((epochs % 50)==0):\n",
        "    print(f\"Epoch:{epochs},Loss={loss}\")"
      ],
      "metadata": {
        "colab": {
          "base_uri": "https://localhost:8080/"
        },
        "id": "fIh0If3BPwRu",
        "outputId": "65c86938-9c49-4b1f-b611-d3f4d2bb84d9"
      },
      "execution_count": null,
      "outputs": [
        {
          "output_type": "stream",
          "name": "stdout",
          "text": [
            "Epoch:0,Loss=1.2574255466461182\n",
            "Epoch:50,Loss=0.6813758611679077\n",
            "Epoch:100,Loss=0.1565946340560913\n",
            "Epoch:150,Loss=0.11057205498218536\n",
            "Epoch:200,Loss=0.09316370636224747\n",
            "Epoch:250,Loss=0.0759885236620903\n",
            "Epoch:300,Loss=0.058813951909542084\n",
            "Epoch:350,Loss=0.04164547473192215\n",
            "Epoch:400,Loss=0.024477001279592514\n",
            "Epoch:450,Loss=0.007303106598556042\n"
          ]
        }
      ]
    },
    {
      "cell_type": "code",
      "source": [
        "model.state_dict()"
      ],
      "metadata": {
        "colab": {
          "base_uri": "https://localhost:8080/"
        },
        "id": "cahVOVWZTof9",
        "outputId": "16a52c9e-4c1f-4c06-dc66-5d89c29e2322"
      },
      "execution_count": null,
      "outputs": [
        {
          "output_type": "execute_result",
          "data": {
            "text/plain": [
              "OrderedDict([('Linear_layer.weight', tensor([[0.3011]])),\n",
              "             ('Linear_layer.bias', tensor([0.8906]))])"
            ]
          },
          "metadata": {},
          "execution_count": 134
        }
      ]
    },
    {
      "cell_type": "code",
      "source": [
        "with torch.inference_mode():\n",
        "  y_preds=model(X_test)\n",
        "y_preds"
      ],
      "metadata": {
        "colab": {
          "base_uri": "https://localhost:8080/"
        },
        "id": "5mV1_3YnSk_5",
        "outputId": "73a5432b-41e4-4a29-a808-a1e395500a99"
      },
      "execution_count": null,
      "outputs": [
        {
          "output_type": "execute_result",
          "data": {
            "text/plain": [
              "tensor([[1.1315],\n",
              "        [1.1375],\n",
              "        [1.1435],\n",
              "        [1.1495],\n",
              "        [1.1555],\n",
              "        [1.1616],\n",
              "        [1.1676],\n",
              "        [1.1736],\n",
              "        [1.1796],\n",
              "        [1.1857]])"
            ]
          },
          "metadata": {},
          "execution_count": 135
        }
      ]
    },
    {
      "cell_type": "code",
      "source": [
        "Linear_Regression(prediction=y_preds);"
      ],
      "metadata": {
        "colab": {
          "base_uri": "https://localhost:8080/",
          "height": 599
        },
        "id": "rZT0XJMXS6k6",
        "outputId": "92877e21-fadb-4219-aac7-eca2434e7e45"
      },
      "execution_count": null,
      "outputs": [
        {
          "output_type": "display_data",
          "data": {
            "text/plain": [
              "<Figure size 1000x700 with 1 Axes>"
            ],
            "image/png": "[encoded data removed]"
          },
          "metadata": {}
        }
      ]
    },
    {
      "cell_type": "code",
      "source": [
        "import torch\n",
        "from pathlib import Path\n",
        "\n",
        "model_path = Path(\"Model\")\n",
        "model_path.mkdir(parents=True, exist_ok=True)\n",
        "\n",
        "model_name = \"Exercise-LinearRegressionModel\"\n",
        "model_path_name = model_path / model_name\n",
        "\n",
        "# 假設 model 是你的模型物件\n",
        "torch.save(obj=model.state_dict(), f=str(model_path_name))\n"
      ],
      "metadata": {
        "id": "-6nB8nTbZudw"
      },
      "execution_count": null,
      "outputs": []
    },
    {
      "cell_type": "code",
      "source": [
        "import pathlib as Path\n",
        "\n",
        "model_path = Path(\"Model\")\n",
        "model_path.mkdir(parents=True,\n",
        "                 exist_ok=True)\n",
        "model_name=\"Exercise-LinearRegressionModel\"\n",
        "model_path_name=model_path/model_name\n",
        "torch.save(obj=model.state_dict(),\n",
        "           f=model_path_name)"
      ],
      "metadata": {
        "colab": {
          "base_uri": "https://localhost:8080/",
          "height": 255
        },
        "id": "bvKByQDOW0Yf",
        "outputId": "e277bbf9-e081-48f0-e31b-c8e955d8a3b3"
      },
      "execution_count": null,
      "outputs": [
        {
          "output_type": "error",
          "ename": "TypeError",
          "evalue": "ignored",
          "traceback": [
            "\u001b[0;31m---------------------------------------------------------------------------\u001b[0m",
            "\u001b[0;31mTypeError\u001b[0m                                 Traceback (most recent call last)",
            "\u001b[0;32m<ipython-input-140-2446aeb77228>\u001b[0m in \u001b[0;36m<cell line: 3>\u001b[0;34m()\u001b[0m\n\u001b[1;32m      1\u001b[0m \u001b[0;32mimport\u001b[0m \u001b[0mpathlib\u001b[0m \u001b[0;32mas\u001b[0m \u001b[0mPath\u001b[0m\u001b[0;34m\u001b[0m\u001b[0;34m\u001b[0m\u001b[0m\n\u001b[1;32m      2\u001b[0m \u001b[0;34m\u001b[0m\u001b[0m\n\u001b[0;32m----> 3\u001b[0;31m \u001b[0mmodel_path\u001b[0m \u001b[0;34m=\u001b[0m \u001b[0mPath\u001b[0m\u001b[0;34m(\u001b[0m\u001b[0;34m\"Model\"\u001b[0m\u001b[0;34m)\u001b[0m\u001b[0;34m\u001b[0m\u001b[0;34m\u001b[0m\u001b[0m\n\u001b[0m\u001b[1;32m      4\u001b[0m model_path.mkdir(parents=True,\n\u001b[1;32m      5\u001b[0m                  exist_ok=True)\n",
            "\u001b[0;31mTypeError\u001b[0m: 'module' object is not callable"
          ]
        }
      ]
    },
    {
      "cell_type": "code",
      "source": [],
      "metadata": {
        "id": "DKVtB1pEZtxC"
      },
      "execution_count": null,
      "outputs": []
    }
  ]
}