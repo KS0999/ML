{
  "nbformat": 4,
  "nbformat_minor": 0,
  "metadata": {
    "colab": {
      "provenance": [],
      "authorship_tag": "ABX9TyOBoPq8JbsiBXxiwJEiw21H",
      "include_colab_link": true
    },
    "kernelspec": {
      "name": "python3",
      "display_name": "Python 3"
    },
    "language_info": {
      "name": "python"
    }
  },
  "cells": [
    {
      "cell_type": "markdown",
      "metadata": {
        "id": "view-in-github",
        "colab_type": "text"
      },
      "source": [
        "<a href=\"https://colab.research.google.com/github/KS0999/ML/blob/main/review.ipynb\" target=\"_parent\"><img src=\"https://colab.research.google.com/assets/colab-badge.svg\" alt=\"Open In Colab\"/></a>"
      ]
    },
    {
      "cell_type": "code",
      "execution_count": 109,
      "metadata": {
        "id": "dBZSjuNY5IZW"
      },
      "outputs": [],
      "source": [
        "import numpy as np\n",
        "import matplotlib.pyplot as plt\n",
        "import torch\n",
        "#setting weight & bias\n",
        "\n",
        "weight = 0.7\n",
        "bias = 0.3\n",
        "\n",
        "#data split\n",
        "\n",
        "start=0\n",
        "end=1\n",
        "step=0.02\n",
        "X=torch.arange(start,end,step).unsqueeze(1)\n",
        "y=weight*X+bias"
      ]
    },
    {
      "cell_type": "code",
      "source": [
        "data_split=int(len(X)*0.8)\n",
        "X_train,y_train=X[:data_split],y[:data_split]\n",
        "X_test,y_test=X[data_split:],y[data_split:]\n",
        "len(X_train),len(X_test),len(y_train),len(y_test)"
      ],
      "metadata": {
        "colab": {
          "base_uri": "https://localhost:8080/"
        },
        "id": "dwLMtRSY5eRS",
        "outputId": "721b51bd-ce58-4315-93c4-41e48756ef16"
      },
      "execution_count": 110,
      "outputs": [
        {
          "output_type": "execute_result",
          "data": {
            "text/plain": [
              "(40, 10, 40, 10)"
            ]
          },
          "metadata": {},
          "execution_count": 110
        }
      ]
    },
    {
      "cell_type": "code",
      "source": [
        "def Linear_Regression(prediction=None):\n",
        "  plt.figure(figsize=(10,7))\n",
        "  plt.scatter(X_train,y_train,s=10,c=\"g\",label=\"train\")\n",
        "  plt.scatter(X_test,y_test,s=10,c=\"b\",label=\"test\")\n",
        "  if prediction is not None:\n",
        "    plt.scatter(prediction,y_test,s=10,c=\"r\",label=\"prediction\")\n",
        "  plt.legend()\n"
      ],
      "metadata": {
        "id": "k4ZdYpiC9QKU"
      },
      "execution_count": 111,
      "outputs": []
    },
    {
      "cell_type": "code",
      "source": [
        "Linear_Regression();\n",
        "plt.show()"
      ],
      "metadata": {
        "colab": {
          "base_uri": "https://localhost:8080/",
          "height": 599
        },
        "id": "SA0Cq0Dt_AbT",
        "outputId": "6c0d885f-aaf6-41fb-c34a-6a86a2d5b674"
      },
      "execution_count": 112,
      "outputs": [
        {
          "output_type": "display_data",
          "data": {
            "text/plain": [
              "<Figure size 1000x700 with 1 Axes>"
            ],
            "image/png": "[encoded data removed]"
          },
          "metadata": {}
        }
      ]
    },
    {
      "cell_type": "code",
      "source": [
        "import torch.nn as nn\n",
        "class LinearRegressionModel (nn.Module):\n",
        "  def __init__(self):\n",
        "    super().__init__()\n",
        "    self.linear_layer=torch.nn.Linear(in_features=1,\n",
        "                                      out_features=1)\n",
        "  def forward(self,x):\n",
        "    return self.linear_layer(x)\n",
        "model=LinearRegressionModel()"
      ],
      "metadata": {
        "id": "-lYBRbagLUa4"
      },
      "execution_count": 113,
      "outputs": []
    },
    {
      "cell_type": "code",
      "source": [
        "torch.manual_seed(0)\n",
        "model.state_dict()"
      ],
      "metadata": {
        "colab": {
          "base_uri": "https://localhost:8080/"
        },
        "id": "boRe8O0A-1QU",
        "outputId": "9b6ee765-0435-430f-dc1c-a91523118361"
      },
      "execution_count": 114,
      "outputs": [
        {
          "output_type": "execute_result",
          "data": {
            "text/plain": [
              "OrderedDict([('linear_layer.weight', tensor([[-0.0075]])),\n",
              "             ('linear_layer.bias', tensor([0.5364]))])"
            ]
          },
          "metadata": {},
          "execution_count": 114
        }
      ]
    },
    {
      "cell_type": "code",
      "source": [
        "loss_function=nn.L1Loss()\n",
        "optimizer=torch.optim.SGD(params=model.parameters(),\n",
        "                          lr=0.01)"
      ],
      "metadata": {
        "id": "KKmyYvuKLVQe"
      },
      "execution_count": 115,
      "outputs": []
    },
    {
      "cell_type": "code",
      "source": [
        "epochs=500\n",
        "\n",
        "for epochs in range(epochs):\n",
        "  #training\n",
        "  model.train()\n",
        "  y_pred=model(X_train)\n",
        "  loss=loss_function(y_pred,y_train)\n",
        "  optimizer.zero_grad()\n",
        "  loss.backward()\n",
        "  optimizer.step()\n",
        "  #testing\n",
        "  model.eval()\n",
        "  with torch.inference_mode():\n",
        "    test_pred=model(X_test)\n",
        "    test_loss=loss_function(test_pred,y_test)\n",
        "  if epochs % 20 ==0:\n",
        "    print(f\"Epoch:{epochs},Loss:{loss},Test_loss{test_loss}\")"
      ],
      "metadata": {
        "colab": {
          "base_uri": "https://localhost:8080/"
        },
        "id": "2tjrDiOP_1hu",
        "outputId": "67d035da-b98a-4ec9-f747-74b29ca5626c"
      },
      "execution_count": 116,
      "outputs": [
        {
          "output_type": "stream",
          "name": "stdout",
          "text": [
            "Epoch:0,Loss:0.14423510432243347,Test_loss0.3894590735435486\n",
            "Epoch:20,Loss:0.13230934739112854,Test_loss0.33455294370651245\n",
            "Epoch:40,Loss:0.12454460561275482,Test_loss0.30234307050704956\n",
            "Epoch:60,Loss:0.11756458133459091,Test_loss0.2803034782409668\n",
            "Epoch:80,Loss:0.110584557056427,Test_loss0.2582639753818512\n",
            "Epoch:100,Loss:0.10370694100856781,Test_loss0.24171936511993408\n",
            "Epoch:120,Loss:0.09683561325073242,Test_loss0.225861594080925\n",
            "Epoch:140,Loss:0.08996454626321793,Test_loss0.20931664109230042\n",
            "Epoch:160,Loss:0.08309973776340485,Test_loss0.1934584379196167\n",
            "Epoch:180,Loss:0.07623177021741867,Test_loss0.17760023474693298\n",
            "Epoch:200,Loss:0.06935827434062958,Test_loss0.16174201667308807\n",
            "Epoch:220,Loss:0.0624924972653389,Test_loss0.14519695937633514\n",
            "Epoch:240,Loss:0.05562768131494522,Test_loss0.12933874130249023\n",
            "Epoch:260,Loss:0.048754412680864334,Test_loss0.11348054558038712\n",
            "Epoch:280,Loss:0.04188524931669235,Test_loss0.0969354510307312\n",
            "Epoch:300,Loss:0.03502044826745987,Test_loss0.08107726275920868\n",
            "Epoch:320,Loss:0.02815055288374424,Test_loss0.06521905958652496\n",
            "Epoch:340,Loss:0.0212780199944973,Test_loss0.048673976212739944\n",
            "Epoch:360,Loss:0.014413198456168175,Test_loss0.03281576186418533\n",
            "Epoch:380,Loss:0.007546691689640284,Test_loss0.016957556828856468\n",
            "Epoch:400,Loss:0.0039774649776518345,Test_loss0.005105882883071899\n",
            "Epoch:420,Loss:0.0039774649776518345,Test_loss0.005105882883071899\n",
            "Epoch:440,Loss:0.0039774649776518345,Test_loss0.005105882883071899\n",
            "Epoch:460,Loss:0.0039774649776518345,Test_loss0.005105882883071899\n",
            "Epoch:480,Loss:0.0039774649776518345,Test_loss0.005105882883071899\n"
          ]
        }
      ]
    },
    {
      "cell_type": "code",
      "source": [
        "with torch.inference_mode():\n",
        "  y_pred=model(X_test)\n",
        "y_pred"
      ],
      "metadata": {
        "colab": {
          "base_uri": "https://localhost:8080/"
        },
        "id": "ptCFKdUwCwlk",
        "outputId": "ab50f55a-2485-4d73-b2d2-57eb8b6c5c3c"
      },
      "execution_count": 117,
      "outputs": [
        {
          "output_type": "execute_result",
          "data": {
            "text/plain": [
              "tensor([[0.8524],\n",
              "        [0.8662],\n",
              "        [0.8801],\n",
              "        [0.8939],\n",
              "        [0.9077],\n",
              "        [0.9215],\n",
              "        [0.9354],\n",
              "        [0.9492],\n",
              "        [0.9630],\n",
              "        [0.9768]])"
            ]
          },
          "metadata": {},
          "execution_count": 117
        }
      ]
    },
    {
      "cell_type": "code",
      "source": [
        "Linear_Regression(prediction=y_pred.detach().numpy());\n",
        "plt.show()"
      ],
      "metadata": {
        "colab": {
          "base_uri": "https://localhost:8080/",
          "height": 599
        },
        "id": "T_Sbw7aHGtlP",
        "outputId": "51638138-c483-4b3b-d0a9-1ca74258a2b1"
      },
      "execution_count": 118,
      "outputs": [
        {
          "output_type": "display_data",
          "data": {
            "text/plain": [
              "<Figure size 1000x700 with 1 Axes>"
            ],
            "image/png": "[encoded data removed]"
          },
          "metadata": {}
        }
      ]
    },
    {
      "cell_type": "code",
      "source": [
        "model.state_dict()"
      ],
      "metadata": {
        "colab": {
          "base_uri": "https://localhost:8080/"
        },
        "id": "fgW_tWZEI8vp",
        "outputId": "6ff452b6-b5c6-413e-dc27-c0ad5a51d45e"
      },
      "execution_count": 119,
      "outputs": [
        {
          "output_type": "execute_result",
          "data": {
            "text/plain": [
              "OrderedDict([('linear_layer.weight', tensor([[0.6912]])),\n",
              "             ('linear_layer.bias', tensor([0.2994]))])"
            ]
          },
          "metadata": {},
          "execution_count": 119
        }
      ]
    },
    {
      "cell_type": "code",
      "source": [
        "from pathlib import Path\n",
        "\n",
        "model_path=Path(\"Model\")\n",
        "model_path.mkdir(parents=True,\n",
        "                 exist_ok=True)\n",
        "model_name=\"review-LinearRegressionModel\"\n",
        "model_path_name=model_path/model_name\n",
        "torch.save(obj=model.state_dict(),\n",
        "           f=model_path_name)"
      ],
      "metadata": {
        "id": "ACpbrtA7HwZS"
      },
      "execution_count": 120,
      "outputs": []
    }
  ]
}